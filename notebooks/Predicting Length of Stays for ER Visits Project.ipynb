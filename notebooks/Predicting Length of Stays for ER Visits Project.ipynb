{
 "cells": [
  {
   "cell_type": "markdown",
   "id": "6adacd1e-d7a5-42bb-9d90-9eb5540ff49c",
   "metadata": {},
   "source": [
    "![title](img/picture.png)"
   ]
  },
  {
   "cell_type": "markdown",
   "id": "42caba5d-96c3-4a3d-be05-b1b2d62c9a01",
   "metadata": {},
   "source": [
    "# Predicting Length of Stays for ER Visits Project"
   ]
  },
  {
   "cell_type": "markdown",
   "id": "a2e3f9b8-d4a5-4e02-aac8-5f032102119e",
   "metadata": {},
   "source": [
    "____________________________________"
   ]
  },
  {
   "cell_type": "markdown",
   "id": "dcdca317-f450-468b-89eb-2d392b36d3d9",
   "metadata": {},
   "source": [
    "## 1. Background"
   ]
  },
  {
   "cell_type": "markdown",
   "id": "e4d4e952-feab-4771-ac2c-cd617bc99d54",
   "metadata": {},
   "source": [
    "### Purpose"
   ]
  },
  {
   "cell_type": "markdown",
   "id": "8cdc1324-9896-46ef-99e6-bc6167a37351",
   "metadata": {},
   "source": [
    "__Length of Stay (LOS)__ is a key metric used by healthcare facilities to measure general efficiency of a facility and also provides logistical information reflecting specific medical facility capacities. __Length of Stay (LOS)__ is defined as the time between a patient admission and discharge from a particular hospital. Test data may be obtained via microsoft and is available on such popular data science platforms as `Kaggle`. The data for project was analyzed with Python `Scikit-Learn` for general patterns and a regression model was created using numerous patient and healthcare attributes to predict the length of stay per each patient."
   ]
  },
  {
   "cell_type": "markdown",
   "id": "13afa49a-217d-4c4c-afd8-40396063de7f",
   "metadata": {},
   "source": [
    "### Methodology"
   ]
  },
  {
   "cell_type": "markdown",
   "id": "f9c027c9-435f-4d7e-9d02-260366c1307b",
   "metadata": {},
   "source": [
    "Three different model types are tested against each other to determine which model produces the best predictionsusing the Python machine learning library `Scikit Learn`.\n",
    "<br><br>\n",
    "| Model    | Method | Pros   | Cons|\n",
    "| ------- | --- | ------- | --- |\n",
    "| Linear Regression  | Linear (OLS)  |Fast,    | May Underfit |\n",
    "| Random Forest   | Non-Parametric | Intuitive, Powerful | Slow, May Overfit |\n",
    "| Support Vector Machines    | Non-Parametric; Linear Algebraic | Great Accuracy, High Dimensional   | Somewhat Slow |\n",
    "\n",
    "<br><br>\n",
    "The major comparitors between each type of model are:\n",
    "1. Performance Considerations: (Does the model provide feasibility for companies to run on large scale platforms?)\n",
    "2. Generalization Errors: (How well the model performs in training vs. real-world data?)\n",
    "3. Intuition: (How easy is the model to explain to stakeholders?)\n",
    "<br><br>\n",
    "These questions are answered in the summary after the analysis. Do note a brief data exploration is provided prior to model training simply to observe the association between each feature with the outcome variable 'Length of Stay'."
   ]
  },
  {
   "cell_type": "markdown",
   "id": "ac8d9af6-581f-44e6-b8a7-dc595dfc82f9",
   "metadata": {},
   "source": [
    "____________________________________"
   ]
  },
  {
   "cell_type": "markdown",
   "id": "bb01e45b-b859-4328-8c47-386b2485712e",
   "metadata": {},
   "source": [
    "## 2. Data Wrangling"
   ]
  },
  {
   "cell_type": "markdown",
   "id": "32bc8d0e-de94-4f44-81ae-0a57f0d3d1fa",
   "metadata": {},
   "source": [
    "Steps are taken to obtain the data from the raw flat file and to examine the data prior to performing any analysis or transformations."
   ]
  },
  {
   "cell_type": "markdown",
   "id": "f31cf689-2f95-4717-bd61-460e440ed793",
   "metadata": {},
   "source": [
    "### Import Libraries"
   ]
  },
  {
   "cell_type": "code",
   "execution_count": 17,
   "id": "9e920273-73d0-4384-a4c4-9c7f57d40d4f",
   "metadata": {},
   "outputs": [],
   "source": [
    "import pandas as pd\n",
    "import numpy as np\n",
    "import sklearn\n",
    "import scipy \n",
    "import matplotlib as mpl\n",
    "import matplotlib.pyplot as plt\n",
    "import seaborn as sns\n",
    "import os"
   ]
  },
  {
   "cell_type": "markdown",
   "id": "9ea10f04-42cb-42d2-8cde-10fd4276c5e5",
   "metadata": {},
   "source": [
    "### Utility Functions"
   ]
  },
  {
   "cell_type": "markdown",
   "id": "2090fcc0-8cce-47ba-9c5a-91bfd639a51c",
   "metadata": {},
   "source": [
    "Track the parent location of this notebook."
   ]
  },
  {
   "cell_type": "code",
   "execution_count": 20,
   "id": "3a409b9a-6c0d-4f31-af44-7764a6f4f5b2",
   "metadata": {
    "scrolled": true
   },
   "outputs": [
    {
     "data": {
      "text/plain": [
       "'D:\\\\Projects\\\\Predicting Length of Stays for ER Visits'"
      ]
     },
     "execution_count": 20,
     "metadata": {},
     "output_type": "execute_result"
    }
   ],
   "source": [
    "parent = os.getcwd().replace('\\\\notebooks','')\n",
    "parent"
   ]
  },
  {
   "cell_type": "markdown",
   "id": "671d657d-a5e9-4d50-beb6-aa6fab983641",
   "metadata": {},
   "source": [
    "Function that saves images to specific directory for reporting."
   ]
  },
  {
   "cell_type": "code",
   "execution_count": 22,
   "id": "ed81b547-3ccd-4079-b143-e12d3063d4b5",
   "metadata": {},
   "outputs": [],
   "source": [
    "# Function saves images to folder\n",
    "IMAGES_PATH = parent + '\\\\images'\n",
    "def save_fig(fig_id, tight_layout=True, fig_extension=\"png\", resolution=300):\n",
    "    path = os.path.join(IMAGES_PATH, fig_id + \".\" + fig_extension)\n",
    "    print(\"Saving figure\", fig_id)\n",
    "    if tight_layout:\n",
    "        plt.tight_layout()\n",
    "    plt.savefig(path, format=fig_extension, dpi=resolution)"
   ]
  },
  {
   "cell_type": "markdown",
   "id": "c45ddb0e-c75c-47f7-ba92-bba12065b96a",
   "metadata": {},
   "source": [
    "Throughout the analysis, quick quality control checks are simply performed using the following function."
   ]
  },
  {
   "cell_type": "code",
   "execution_count": 24,
   "id": "c5f834a1-61ea-49a8-851c-ec8d93240914",
   "metadata": {},
   "outputs": [],
   "source": [
    "def qc(X):\n",
    "    shape = X.shape\n",
    "    missing = X.isnull().sum()\n",
    "    return shape, missing"
   ]
  },
  {
   "cell_type": "markdown",
   "id": "6bdafc89-7d7d-4784-950b-fef15ab1efd7",
   "metadata": {},
   "source": [
    "### Download Data"
   ]
  },
  {
   "cell_type": "code",
   "execution_count": 26,
   "id": "0de9d63d-b725-49f9-8458-216c035ca5fd",
   "metadata": {
    "scrolled": true
   },
   "outputs": [
    {
     "data": {
      "text/html": [
       "<div>\n",
       "<style scoped>\n",
       "    .dataframe tbody tr th:only-of-type {\n",
       "        vertical-align: middle;\n",
       "    }\n",
       "\n",
       "    .dataframe tbody tr th {\n",
       "        vertical-align: top;\n",
       "    }\n",
       "\n",
       "    .dataframe thead th {\n",
       "        text-align: right;\n",
       "    }\n",
       "</style>\n",
       "<table border=\"1\" class=\"dataframe\">\n",
       "  <thead>\n",
       "    <tr style=\"text-align: right;\">\n",
       "      <th></th>\n",
       "      <th>eid</th>\n",
       "      <th>vdate</th>\n",
       "      <th>rcount</th>\n",
       "      <th>gender</th>\n",
       "      <th>dialysisrenalendstage</th>\n",
       "      <th>asthma</th>\n",
       "      <th>irondef</th>\n",
       "      <th>pneum</th>\n",
       "      <th>substancedependence</th>\n",
       "      <th>psychologicaldisordermajor</th>\n",
       "      <th>...</th>\n",
       "      <th>glucose</th>\n",
       "      <th>bloodureanitro</th>\n",
       "      <th>creatinine</th>\n",
       "      <th>bmi</th>\n",
       "      <th>pulse</th>\n",
       "      <th>respiration</th>\n",
       "      <th>secondarydiagnosisnonicd9</th>\n",
       "      <th>discharged</th>\n",
       "      <th>facid</th>\n",
       "      <th>lengthofstay</th>\n",
       "    </tr>\n",
       "  </thead>\n",
       "  <tbody>\n",
       "    <tr>\n",
       "      <th>0</th>\n",
       "      <td>1</td>\n",
       "      <td>8/29/2012</td>\n",
       "      <td>0</td>\n",
       "      <td>F</td>\n",
       "      <td>0</td>\n",
       "      <td>0</td>\n",
       "      <td>0</td>\n",
       "      <td>0</td>\n",
       "      <td>0</td>\n",
       "      <td>0</td>\n",
       "      <td>...</td>\n",
       "      <td>192.476918</td>\n",
       "      <td>12.0</td>\n",
       "      <td>1.390722</td>\n",
       "      <td>30.432418</td>\n",
       "      <td>96</td>\n",
       "      <td>6.5</td>\n",
       "      <td>4</td>\n",
       "      <td>9/1/2012</td>\n",
       "      <td>B</td>\n",
       "      <td>3</td>\n",
       "    </tr>\n",
       "    <tr>\n",
       "      <th>1</th>\n",
       "      <td>2</td>\n",
       "      <td>5/26/2012</td>\n",
       "      <td>5+</td>\n",
       "      <td>F</td>\n",
       "      <td>0</td>\n",
       "      <td>0</td>\n",
       "      <td>0</td>\n",
       "      <td>0</td>\n",
       "      <td>0</td>\n",
       "      <td>0</td>\n",
       "      <td>...</td>\n",
       "      <td>94.078507</td>\n",
       "      <td>8.0</td>\n",
       "      <td>0.943164</td>\n",
       "      <td>28.460516</td>\n",
       "      <td>61</td>\n",
       "      <td>6.5</td>\n",
       "      <td>1</td>\n",
       "      <td>6/2/2012</td>\n",
       "      <td>A</td>\n",
       "      <td>7</td>\n",
       "    </tr>\n",
       "    <tr>\n",
       "      <th>2</th>\n",
       "      <td>3</td>\n",
       "      <td>9/22/2012</td>\n",
       "      <td>1</td>\n",
       "      <td>F</td>\n",
       "      <td>0</td>\n",
       "      <td>0</td>\n",
       "      <td>0</td>\n",
       "      <td>0</td>\n",
       "      <td>0</td>\n",
       "      <td>0</td>\n",
       "      <td>...</td>\n",
       "      <td>130.530524</td>\n",
       "      <td>12.0</td>\n",
       "      <td>1.065750</td>\n",
       "      <td>28.843812</td>\n",
       "      <td>64</td>\n",
       "      <td>6.5</td>\n",
       "      <td>2</td>\n",
       "      <td>9/25/2012</td>\n",
       "      <td>B</td>\n",
       "      <td>3</td>\n",
       "    </tr>\n",
       "    <tr>\n",
       "      <th>3</th>\n",
       "      <td>4</td>\n",
       "      <td>8/9/2012</td>\n",
       "      <td>0</td>\n",
       "      <td>F</td>\n",
       "      <td>0</td>\n",
       "      <td>0</td>\n",
       "      <td>0</td>\n",
       "      <td>0</td>\n",
       "      <td>0</td>\n",
       "      <td>0</td>\n",
       "      <td>...</td>\n",
       "      <td>163.377028</td>\n",
       "      <td>12.0</td>\n",
       "      <td>0.906862</td>\n",
       "      <td>27.959007</td>\n",
       "      <td>76</td>\n",
       "      <td>6.5</td>\n",
       "      <td>1</td>\n",
       "      <td>8/10/2012</td>\n",
       "      <td>A</td>\n",
       "      <td>1</td>\n",
       "    </tr>\n",
       "    <tr>\n",
       "      <th>4</th>\n",
       "      <td>5</td>\n",
       "      <td>12/20/2012</td>\n",
       "      <td>0</td>\n",
       "      <td>F</td>\n",
       "      <td>0</td>\n",
       "      <td>0</td>\n",
       "      <td>0</td>\n",
       "      <td>1</td>\n",
       "      <td>0</td>\n",
       "      <td>1</td>\n",
       "      <td>...</td>\n",
       "      <td>94.886654</td>\n",
       "      <td>11.5</td>\n",
       "      <td>1.242854</td>\n",
       "      <td>30.258927</td>\n",
       "      <td>67</td>\n",
       "      <td>5.6</td>\n",
       "      <td>2</td>\n",
       "      <td>12/24/2012</td>\n",
       "      <td>E</td>\n",
       "      <td>4</td>\n",
       "    </tr>\n",
       "  </tbody>\n",
       "</table>\n",
       "<p>5 rows × 28 columns</p>\n",
       "</div>"
      ],
      "text/plain": [
       "   eid       vdate rcount gender  dialysisrenalendstage  asthma  irondef  \\\n",
       "0    1   8/29/2012      0      F                      0       0        0   \n",
       "1    2   5/26/2012     5+      F                      0       0        0   \n",
       "2    3   9/22/2012      1      F                      0       0        0   \n",
       "3    4    8/9/2012      0      F                      0       0        0   \n",
       "4    5  12/20/2012      0      F                      0       0        0   \n",
       "\n",
       "   pneum  substancedependence  psychologicaldisordermajor  ...     glucose  \\\n",
       "0      0                    0                           0  ...  192.476918   \n",
       "1      0                    0                           0  ...   94.078507   \n",
       "2      0                    0                           0  ...  130.530524   \n",
       "3      0                    0                           0  ...  163.377028   \n",
       "4      1                    0                           1  ...   94.886654   \n",
       "\n",
       "   bloodureanitro  creatinine        bmi  pulse  respiration  \\\n",
       "0            12.0    1.390722  30.432418     96          6.5   \n",
       "1             8.0    0.943164  28.460516     61          6.5   \n",
       "2            12.0    1.065750  28.843812     64          6.5   \n",
       "3            12.0    0.906862  27.959007     76          6.5   \n",
       "4            11.5    1.242854  30.258927     67          5.6   \n",
       "\n",
       "   secondarydiagnosisnonicd9  discharged  facid  lengthofstay  \n",
       "0                          4    9/1/2012      B             3  \n",
       "1                          1    6/2/2012      A             7  \n",
       "2                          2   9/25/2012      B             3  \n",
       "3                          1   8/10/2012      A             1  \n",
       "4                          2  12/24/2012      E             4  \n",
       "\n",
       "[5 rows x 28 columns]"
      ]
     },
     "execution_count": 26,
     "metadata": {},
     "output_type": "execute_result"
    }
   ],
   "source": [
    "raw_data = pd.read_csv(parent + '\\\\data\\\\raw data.csv')\n",
    "raw_data.head()"
   ]
  },
  {
   "cell_type": "markdown",
   "id": "ce0e1fca-eb99-4a8c-99d9-690728d07c55",
   "metadata": {},
   "source": [
    "### Column Info"
   ]
  },
  {
   "cell_type": "markdown",
   "id": "ee4a193b-8c22-40d4-947d-9f80d2f9a9cf",
   "metadata": {},
   "source": [
    "In rare fashion, this data contains all values with the outcome variable __'lengthofstay'__ located as the last column."
   ]
  },
  {
   "cell_type": "code",
   "execution_count": 29,
   "id": "3c8b601e-5ca3-4dbc-bc96-911a6c737898",
   "metadata": {},
   "outputs": [
    {
     "name": "stdout",
     "output_type": "stream",
     "text": [
      "<class 'pandas.core.frame.DataFrame'>\n",
      "RangeIndex: 100000 entries, 0 to 99999\n",
      "Data columns (total 28 columns):\n",
      " #   Column                      Non-Null Count   Dtype  \n",
      "---  ------                      --------------   -----  \n",
      " 0   eid                         100000 non-null  int64  \n",
      " 1   vdate                       100000 non-null  object \n",
      " 2   rcount                      100000 non-null  object \n",
      " 3   gender                      100000 non-null  object \n",
      " 4   dialysisrenalendstage       100000 non-null  int64  \n",
      " 5   asthma                      100000 non-null  int64  \n",
      " 6   irondef                     100000 non-null  int64  \n",
      " 7   pneum                       100000 non-null  int64  \n",
      " 8   substancedependence         100000 non-null  int64  \n",
      " 9   psychologicaldisordermajor  100000 non-null  int64  \n",
      " 10  depress                     100000 non-null  int64  \n",
      " 11  psychother                  100000 non-null  int64  \n",
      " 12  fibrosisandother            100000 non-null  int64  \n",
      " 13  malnutrition                100000 non-null  int64  \n",
      " 14  hemo                        100000 non-null  int64  \n",
      " 15  hematocrit                  100000 non-null  float64\n",
      " 16  neutrophils                 100000 non-null  float64\n",
      " 17  sodium                      100000 non-null  float64\n",
      " 18  glucose                     100000 non-null  float64\n",
      " 19  bloodureanitro              100000 non-null  float64\n",
      " 20  creatinine                  100000 non-null  float64\n",
      " 21  bmi                         100000 non-null  float64\n",
      " 22  pulse                       100000 non-null  int64  \n",
      " 23  respiration                 100000 non-null  float64\n",
      " 24  secondarydiagnosisnonicd9   100000 non-null  int64  \n",
      " 25  discharged                  100000 non-null  object \n",
      " 26  facid                       100000 non-null  object \n",
      " 27  lengthofstay                100000 non-null  int64  \n",
      "dtypes: float64(8), int64(15), object(5)\n",
      "memory usage: 21.4+ MB\n"
     ]
    }
   ],
   "source": [
    "raw_data.info()"
   ]
  },
  {
   "cell_type": "markdown",
   "id": "a20c7b23-db6f-41a2-a49b-e58121dfba8e",
   "metadata": {},
   "source": [
    "### Describe Data"
   ]
  },
  {
   "cell_type": "code",
   "execution_count": 31,
   "id": "697310c5-a685-454f-84ce-3c90856ad018",
   "metadata": {},
   "outputs": [
    {
     "data": {
      "text/html": [
       "<div>\n",
       "<style scoped>\n",
       "    .dataframe tbody tr th:only-of-type {\n",
       "        vertical-align: middle;\n",
       "    }\n",
       "\n",
       "    .dataframe tbody tr th {\n",
       "        vertical-align: top;\n",
       "    }\n",
       "\n",
       "    .dataframe thead th {\n",
       "        text-align: right;\n",
       "    }\n",
       "</style>\n",
       "<table border=\"1\" class=\"dataframe\">\n",
       "  <thead>\n",
       "    <tr style=\"text-align: right;\">\n",
       "      <th></th>\n",
       "      <th>eid</th>\n",
       "      <th>dialysisrenalendstage</th>\n",
       "      <th>asthma</th>\n",
       "      <th>irondef</th>\n",
       "      <th>pneum</th>\n",
       "      <th>substancedependence</th>\n",
       "      <th>psychologicaldisordermajor</th>\n",
       "      <th>depress</th>\n",
       "      <th>psychother</th>\n",
       "      <th>fibrosisandother</th>\n",
       "      <th>...</th>\n",
       "      <th>neutrophils</th>\n",
       "      <th>sodium</th>\n",
       "      <th>glucose</th>\n",
       "      <th>bloodureanitro</th>\n",
       "      <th>creatinine</th>\n",
       "      <th>bmi</th>\n",
       "      <th>pulse</th>\n",
       "      <th>respiration</th>\n",
       "      <th>secondarydiagnosisnonicd9</th>\n",
       "      <th>lengthofstay</th>\n",
       "    </tr>\n",
       "  </thead>\n",
       "  <tbody>\n",
       "    <tr>\n",
       "      <th>count</th>\n",
       "      <td>100000.000000</td>\n",
       "      <td>100000.000000</td>\n",
       "      <td>100000.000000</td>\n",
       "      <td>100000.000000</td>\n",
       "      <td>100000.000000</td>\n",
       "      <td>100000.000000</td>\n",
       "      <td>100000.000000</td>\n",
       "      <td>100000.000000</td>\n",
       "      <td>100000.000000</td>\n",
       "      <td>100000.000000</td>\n",
       "      <td>...</td>\n",
       "      <td>100000.000000</td>\n",
       "      <td>100000.000000</td>\n",
       "      <td>100000.000000</td>\n",
       "      <td>100000.000000</td>\n",
       "      <td>100000.000000</td>\n",
       "      <td>100000.000000</td>\n",
       "      <td>100000.000000</td>\n",
       "      <td>100000.000000</td>\n",
       "      <td>100000.000000</td>\n",
       "      <td>100000.00000</td>\n",
       "    </tr>\n",
       "    <tr>\n",
       "      <th>mean</th>\n",
       "      <td>50000.500000</td>\n",
       "      <td>0.036420</td>\n",
       "      <td>0.035270</td>\n",
       "      <td>0.094940</td>\n",
       "      <td>0.039450</td>\n",
       "      <td>0.063060</td>\n",
       "      <td>0.239040</td>\n",
       "      <td>0.051660</td>\n",
       "      <td>0.049390</td>\n",
       "      <td>0.004790</td>\n",
       "      <td>...</td>\n",
       "      <td>10.177455</td>\n",
       "      <td>137.891397</td>\n",
       "      <td>141.963384</td>\n",
       "      <td>14.097185</td>\n",
       "      <td>1.099350</td>\n",
       "      <td>29.805759</td>\n",
       "      <td>73.444720</td>\n",
       "      <td>6.493768</td>\n",
       "      <td>2.123310</td>\n",
       "      <td>4.00103</td>\n",
       "    </tr>\n",
       "    <tr>\n",
       "      <th>std</th>\n",
       "      <td>28867.657797</td>\n",
       "      <td>0.187334</td>\n",
       "      <td>0.184462</td>\n",
       "      <td>0.293134</td>\n",
       "      <td>0.194664</td>\n",
       "      <td>0.243072</td>\n",
       "      <td>0.426499</td>\n",
       "      <td>0.221341</td>\n",
       "      <td>0.216682</td>\n",
       "      <td>0.069044</td>\n",
       "      <td>...</td>\n",
       "      <td>5.353131</td>\n",
       "      <td>2.999669</td>\n",
       "      <td>29.992996</td>\n",
       "      <td>12.952454</td>\n",
       "      <td>0.200262</td>\n",
       "      <td>2.003769</td>\n",
       "      <td>11.644555</td>\n",
       "      <td>0.568473</td>\n",
       "      <td>2.050641</td>\n",
       "      <td>2.36031</td>\n",
       "    </tr>\n",
       "    <tr>\n",
       "      <th>min</th>\n",
       "      <td>1.000000</td>\n",
       "      <td>0.000000</td>\n",
       "      <td>0.000000</td>\n",
       "      <td>0.000000</td>\n",
       "      <td>0.000000</td>\n",
       "      <td>0.000000</td>\n",
       "      <td>0.000000</td>\n",
       "      <td>0.000000</td>\n",
       "      <td>0.000000</td>\n",
       "      <td>0.000000</td>\n",
       "      <td>...</td>\n",
       "      <td>0.100000</td>\n",
       "      <td>124.912632</td>\n",
       "      <td>-1.005927</td>\n",
       "      <td>1.000000</td>\n",
       "      <td>0.219770</td>\n",
       "      <td>21.992683</td>\n",
       "      <td>21.000000</td>\n",
       "      <td>0.200000</td>\n",
       "      <td>0.000000</td>\n",
       "      <td>1.00000</td>\n",
       "    </tr>\n",
       "    <tr>\n",
       "      <th>25%</th>\n",
       "      <td>25000.750000</td>\n",
       "      <td>0.000000</td>\n",
       "      <td>0.000000</td>\n",
       "      <td>0.000000</td>\n",
       "      <td>0.000000</td>\n",
       "      <td>0.000000</td>\n",
       "      <td>0.000000</td>\n",
       "      <td>0.000000</td>\n",
       "      <td>0.000000</td>\n",
       "      <td>0.000000</td>\n",
       "      <td>...</td>\n",
       "      <td>7.700000</td>\n",
       "      <td>135.871062</td>\n",
       "      <td>121.682383</td>\n",
       "      <td>11.000000</td>\n",
       "      <td>0.964720</td>\n",
       "      <td>28.454235</td>\n",
       "      <td>66.000000</td>\n",
       "      <td>6.500000</td>\n",
       "      <td>1.000000</td>\n",
       "      <td>2.00000</td>\n",
       "    </tr>\n",
       "    <tr>\n",
       "      <th>50%</th>\n",
       "      <td>50000.500000</td>\n",
       "      <td>0.000000</td>\n",
       "      <td>0.000000</td>\n",
       "      <td>0.000000</td>\n",
       "      <td>0.000000</td>\n",
       "      <td>0.000000</td>\n",
       "      <td>0.000000</td>\n",
       "      <td>0.000000</td>\n",
       "      <td>0.000000</td>\n",
       "      <td>0.000000</td>\n",
       "      <td>...</td>\n",
       "      <td>9.400000</td>\n",
       "      <td>137.887151</td>\n",
       "      <td>142.088545</td>\n",
       "      <td>12.000000</td>\n",
       "      <td>1.098764</td>\n",
       "      <td>29.807516</td>\n",
       "      <td>73.000000</td>\n",
       "      <td>6.500000</td>\n",
       "      <td>1.000000</td>\n",
       "      <td>4.00000</td>\n",
       "    </tr>\n",
       "    <tr>\n",
       "      <th>75%</th>\n",
       "      <td>75000.250000</td>\n",
       "      <td>0.000000</td>\n",
       "      <td>0.000000</td>\n",
       "      <td>0.000000</td>\n",
       "      <td>0.000000</td>\n",
       "      <td>0.000000</td>\n",
       "      <td>0.000000</td>\n",
       "      <td>0.000000</td>\n",
       "      <td>0.000000</td>\n",
       "      <td>0.000000</td>\n",
       "      <td>...</td>\n",
       "      <td>11.500000</td>\n",
       "      <td>139.912885</td>\n",
       "      <td>162.180996</td>\n",
       "      <td>14.000000</td>\n",
       "      <td>1.234867</td>\n",
       "      <td>31.156885</td>\n",
       "      <td>81.000000</td>\n",
       "      <td>6.500000</td>\n",
       "      <td>3.000000</td>\n",
       "      <td>6.00000</td>\n",
       "    </tr>\n",
       "    <tr>\n",
       "      <th>max</th>\n",
       "      <td>100000.000000</td>\n",
       "      <td>1.000000</td>\n",
       "      <td>1.000000</td>\n",
       "      <td>1.000000</td>\n",
       "      <td>1.000000</td>\n",
       "      <td>1.000000</td>\n",
       "      <td>1.000000</td>\n",
       "      <td>1.000000</td>\n",
       "      <td>1.000000</td>\n",
       "      <td>1.000000</td>\n",
       "      <td>...</td>\n",
       "      <td>245.900000</td>\n",
       "      <td>151.387283</td>\n",
       "      <td>271.444277</td>\n",
       "      <td>682.500000</td>\n",
       "      <td>2.035202</td>\n",
       "      <td>38.935293</td>\n",
       "      <td>130.000000</td>\n",
       "      <td>10.000000</td>\n",
       "      <td>10.000000</td>\n",
       "      <td>17.00000</td>\n",
       "    </tr>\n",
       "  </tbody>\n",
       "</table>\n",
       "<p>8 rows × 23 columns</p>\n",
       "</div>"
      ],
      "text/plain": [
       "                 eid  dialysisrenalendstage         asthma        irondef  \\\n",
       "count  100000.000000          100000.000000  100000.000000  100000.000000   \n",
       "mean    50000.500000               0.036420       0.035270       0.094940   \n",
       "std     28867.657797               0.187334       0.184462       0.293134   \n",
       "min         1.000000               0.000000       0.000000       0.000000   \n",
       "25%     25000.750000               0.000000       0.000000       0.000000   \n",
       "50%     50000.500000               0.000000       0.000000       0.000000   \n",
       "75%     75000.250000               0.000000       0.000000       0.000000   \n",
       "max    100000.000000               1.000000       1.000000       1.000000   \n",
       "\n",
       "               pneum  substancedependence  psychologicaldisordermajor  \\\n",
       "count  100000.000000        100000.000000               100000.000000   \n",
       "mean        0.039450             0.063060                    0.239040   \n",
       "std         0.194664             0.243072                    0.426499   \n",
       "min         0.000000             0.000000                    0.000000   \n",
       "25%         0.000000             0.000000                    0.000000   \n",
       "50%         0.000000             0.000000                    0.000000   \n",
       "75%         0.000000             0.000000                    0.000000   \n",
       "max         1.000000             1.000000                    1.000000   \n",
       "\n",
       "             depress     psychother  fibrosisandother  ...    neutrophils  \\\n",
       "count  100000.000000  100000.000000     100000.000000  ...  100000.000000   \n",
       "mean        0.051660       0.049390          0.004790  ...      10.177455   \n",
       "std         0.221341       0.216682          0.069044  ...       5.353131   \n",
       "min         0.000000       0.000000          0.000000  ...       0.100000   \n",
       "25%         0.000000       0.000000          0.000000  ...       7.700000   \n",
       "50%         0.000000       0.000000          0.000000  ...       9.400000   \n",
       "75%         0.000000       0.000000          0.000000  ...      11.500000   \n",
       "max         1.000000       1.000000          1.000000  ...     245.900000   \n",
       "\n",
       "              sodium        glucose  bloodureanitro     creatinine  \\\n",
       "count  100000.000000  100000.000000   100000.000000  100000.000000   \n",
       "mean      137.891397     141.963384       14.097185       1.099350   \n",
       "std         2.999669      29.992996       12.952454       0.200262   \n",
       "min       124.912632      -1.005927        1.000000       0.219770   \n",
       "25%       135.871062     121.682383       11.000000       0.964720   \n",
       "50%       137.887151     142.088545       12.000000       1.098764   \n",
       "75%       139.912885     162.180996       14.000000       1.234867   \n",
       "max       151.387283     271.444277      682.500000       2.035202   \n",
       "\n",
       "                 bmi          pulse    respiration  secondarydiagnosisnonicd9  \\\n",
       "count  100000.000000  100000.000000  100000.000000              100000.000000   \n",
       "mean       29.805759      73.444720       6.493768                   2.123310   \n",
       "std         2.003769      11.644555       0.568473                   2.050641   \n",
       "min        21.992683      21.000000       0.200000                   0.000000   \n",
       "25%        28.454235      66.000000       6.500000                   1.000000   \n",
       "50%        29.807516      73.000000       6.500000                   1.000000   \n",
       "75%        31.156885      81.000000       6.500000                   3.000000   \n",
       "max        38.935293     130.000000      10.000000                  10.000000   \n",
       "\n",
       "       lengthofstay  \n",
       "count  100000.00000  \n",
       "mean        4.00103  \n",
       "std         2.36031  \n",
       "min         1.00000  \n",
       "25%         2.00000  \n",
       "50%         4.00000  \n",
       "75%         6.00000  \n",
       "max        17.00000  \n",
       "\n",
       "[8 rows x 23 columns]"
      ]
     },
     "execution_count": 31,
     "metadata": {},
     "output_type": "execute_result"
    }
   ],
   "source": [
    "raw_data.describe()"
   ]
  },
  {
   "cell_type": "markdown",
   "id": "5f8b77d0-595d-45a4-b656-52d2ac331f74",
   "metadata": {},
   "source": [
    "### Visualize Data"
   ]
  },
  {
   "cell_type": "markdown",
   "id": "7d201ceb-2883-4621-9839-a0888f7fdfa4",
   "metadata": {},
   "source": [
    "Below, we can see that most of the numeric data is representative by classic Gaussian curves minus the outcome __'lengthofstay'__ that appears left skewed. Furthermore, we found that the categorical data columns are represented by indicator variables as 0 for no and 1 for yes. Many of the categorical variables are imbalanced so it will be imperative to ensure proper proportions between training and testing data."
   ]
  },
  {
   "cell_type": "code",
   "execution_count": 34,
   "id": "3b25c8f7-6902-4228-af08-1efe2c068863",
   "metadata": {
    "scrolled": true
   },
   "outputs": [
    {
     "name": "stdout",
     "output_type": "stream",
     "text": [
      "Saving figure attribute_histogram_plots\n"
     ]
    },
    {
     "data": {
      "image/png": "[encoded data removed]",
      "text/plain": [
       "<Figure size 2000x1500 with 25 Axes>"
      ]
     },
     "metadata": {},
     "output_type": "display_data"
    }
   ],
   "source": [
    "raw_data.hist(bins=50, figsize=(20,15))\n",
    "save_fig(\"attribute_histogram_plots\")\n",
    "plt.show()"
   ]
  },
  {
   "cell_type": "markdown",
   "id": "97cba29b-a9a0-4c46-b5ee-ef2a60b62ccc",
   "metadata": {},
   "source": [
    "### Data Anomalies"
   ]
  },
  {
   "cell_type": "markdown",
   "id": "a1d54a59-ee20-43a2-9fee-7fbddcf1f90d",
   "metadata": {},
   "source": [
    "Typically, if any of the following discrepancies listed below were present, Pandas or Sklearn functions may be used to resolve each issue. For documentation purpose, each class method is listed alongside each anomaly."
   ]
  },
  {
   "cell_type": "markdown",
   "id": "205306e7-abd5-45ab-b946-27c806fe98d8",
   "metadata": {},
   "source": [
    "#### Missing Values"
   ]
  },
  {
   "cell_type": "code",
   "execution_count": 38,
   "id": "34ca17b0-0585-42fb-8fe1-b366930ae6d6",
   "metadata": {},
   "outputs": [
    {
     "data": {
      "text/plain": [
       "eid                           0\n",
       "vdate                         0\n",
       "rcount                        0\n",
       "gender                        0\n",
       "dialysisrenalendstage         0\n",
       "asthma                        0\n",
       "irondef                       0\n",
       "pneum                         0\n",
       "substancedependence           0\n",
       "psychologicaldisordermajor    0\n",
       "depress                       0\n",
       "psychother                    0\n",
       "fibrosisandother              0\n",
       "malnutrition                  0\n",
       "hemo                          0\n",
       "hematocrit                    0\n",
       "neutrophils                   0\n",
       "sodium                        0\n",
       "glucose                       0\n",
       "bloodureanitro                0\n",
       "creatinine                    0\n",
       "bmi                           0\n",
       "pulse                         0\n",
       "respiration                   0\n",
       "secondarydiagnosisnonicd9     0\n",
       "discharged                    0\n",
       "facid                         0\n",
       "lengthofstay                  0\n",
       "dtype: int64"
      ]
     },
     "execution_count": 38,
     "metadata": {},
     "output_type": "execute_result"
    }
   ],
   "source": [
    "raw_data.isnull().sum()"
   ]
  },
  {
   "cell_type": "markdown",
   "id": "153f9cf3-eed9-49eb-b86a-7b969d24e7f1",
   "metadata": {},
   "source": [
    "Machine learning algorithms will physically not be able to train with missing values present. Luckily, this data has all values, but for documentation methods are included."
   ]
  },
  {
   "cell_type": "markdown",
   "id": "88ef032b-817b-4639-a577-0666f6ace264",
   "metadata": {},
   "source": [
    "#### Outliers"
   ]
  },
  {
   "cell_type": "markdown",
   "id": "f6ce384d-55f7-45c0-82ec-16fefd286d9f",
   "metadata": {},
   "source": [
    "Outliers may influence machine learning algorithms by overfitting the data so that when the trained data is tested with test data it may have poor performance. \n",
    "Outliers may be detected via:\n",
    "1. Noting values of a specific standard deviation (ie. 95% or 2 SDs)\n",
    "2. Noting values 1.5 times outside of the first and third quartiles\n",
    "3. Using machine learning algorithms used for detection of outliers such as Support Vector Machines or Isolation Forest"
   ]
  },
  {
   "cell_type": "markdown",
   "id": "12851003-2e14-4427-844b-97b46be2a5a0",
   "metadata": {},
   "source": [
    "After viewing the histograms above, are data looks pretty outlier free; however, just for praticality the creatinine column is check for outliers using +/- 2SD range. The use of standard devation has been choosen since the data appears fairly normalize. We note below that 95.39 % of data is within +/- 2SD which notes this data follows proportions described by normalized data."
   ]
  },
  {
   "cell_type": "code",
   "execution_count": 43,
   "id": "1317593e-e10f-4c10-a3b6-c20d4c8ecc36",
   "metadata": {
    "scrolled": true
   },
   "outputs": [
    {
     "name": "stdout",
     "output_type": "stream",
     "text": [
      "95.39 % within range\n"
     ]
    }
   ],
   "source": [
    "print(len(raw_data['creatinine']\n",
    "[\n",
    "(raw_data['creatinine'] < (raw_data['creatinine'].mean() + (raw_data['creatinine'].std()*2)))\n",
    "& (raw_data['creatinine'] > (raw_data['creatinine'].mean() - (raw_data['creatinine'].std()*2)))\n",
    "])/len(raw_data['creatinine']) * 100, \"% within range\")"
   ]
  },
  {
   "cell_type": "markdown",
   "id": "7d2edd31-9633-468e-ac39-9b1c0e828211",
   "metadata": {},
   "source": [
    "The removal of outliers should also be a decision based on conceptuality of each feature. In the case above, it actual __DOES NOT__ make sense to remove the outliers of the creatinine values. For this specific project, we want __TO KEEP__ abnormal values as they indicate possible disease states present that may effect length of stay of patients. It is imperative to consult subject matter experts on data removal in such cases."
   ]
  },
  {
   "cell_type": "markdown",
   "id": "c69559ee-4007-4e67-8e94-a03b8271c409",
   "metadata": {},
   "source": [
    "____________________________________"
   ]
  },
  {
   "cell_type": "markdown",
   "id": "b314f93f-9be1-4601-a64a-df4b5c9b8194",
   "metadata": {},
   "source": [
    "## 3. Data Exploration"
   ]
  },
  {
   "cell_type": "markdown",
   "id": "f4a6ca7f-03c5-4293-a43f-670e3b278107",
   "metadata": {},
   "source": [
    "### Categorical vs Numeric Columns"
   ]
  },
  {
   "cell_type": "markdown",
   "id": "529a99d9-40f9-45f4-b723-7f2389538ff7",
   "metadata": {},
   "source": [
    "Data exploration is highly dependent on the data types of each of the columns where particular columns are categorical and others numeric in nature."
   ]
  },
  {
   "cell_type": "code",
   "execution_count": 49,
   "id": "cd3d0cc0-454b-4cb4-8bc0-3a3cdee17bce",
   "metadata": {},
   "outputs": [],
   "source": [
    "num_cols = []\n",
    "cat_cols = []\n",
    "for col in raw_data.columns:\n",
    "    if raw_data[col].dtype == 'object':\n",
    "        cat_cols.append(col)\n",
    "    else:\n",
    "        num_cols.append(col)\n",
    "raw_numeric = raw_data[num_cols]\n",
    "raw_cat = raw_data[cat_cols]"
   ]
  },
  {
   "cell_type": "markdown",
   "id": "53ef5587-7a43-43d9-9d13-799b6f8c3788",
   "metadata": {},
   "source": [
    "### Testing for Normality"
   ]
  },
  {
   "cell_type": "markdown",
   "id": "abff4537-2d9e-4d05-a2d1-0bbceb3a7d60",
   "metadata": {},
   "source": [
    "Both the __Support Vector Machines Regression__ and __Random Forest Regression__ are non-parametric in nature and do not have any assumptions for normality for the input or output. __Linear Regression__ in itself only requires the errors to be normally distributed which may be performed in the Model training section. For reference the kstest is excellent for testin normality of data."
   ]
  },
  {
   "cell_type": "code",
   "execution_count": 52,
   "id": "2a86d360-4ff9-4038-9223-bc7681b0e8fa",
   "metadata": {},
   "outputs": [],
   "source": [
    "#from scipy.stats import kstest\n",
    "#perform Kolmogorov-Smirnov test for normality\n",
    "#kstest(data, 'norm')"
   ]
  },
  {
   "cell_type": "markdown",
   "id": "766b22f6-0c2c-4603-afd7-7eaf9805d20a",
   "metadata": {},
   "source": [
    "### Remove Outcome Variable"
   ]
  },
  {
   "cell_type": "markdown",
   "id": "2b0a5357-08f6-43c6-873e-cac26f2b0d6a",
   "metadata": {},
   "source": [
    "It will be imperative to compare columns or features to the actual outcome to see what columns should be used in the models."
   ]
  },
  {
   "cell_type": "code",
   "execution_count": 55,
   "id": "056846c0-a06c-434a-9dc0-e63f1021db20",
   "metadata": {},
   "outputs": [],
   "source": [
    "raw_numeric = raw_numeric.drop('lengthofstay', axis=1)\n",
    "outcome = raw_data[['lengthofstay']]"
   ]
  },
  {
   "cell_type": "markdown",
   "id": "9b1602bd-5782-4917-9bfd-cfa5085de6db",
   "metadata": {},
   "source": [
    "#### A Look at the Outcome..."
   ]
  },
  {
   "cell_type": "markdown",
   "id": "6ce37d44-ec59-4106-a460-0acc79bc15f2",
   "metadata": {},
   "source": [
    "Typically, the lengthof stay given in days is around 4 days per each patient. We will want a model that will be able to predict closely to this value based on the inputs that we provide."
   ]
  },
  {
   "cell_type": "code",
   "execution_count": 217,
   "id": "e8565aa2-28ac-45fd-b05c-b96293855168",
   "metadata": {},
   "outputs": [
    {
     "name": "stdout",
     "output_type": "stream",
     "text": [
      "       lengthofstay\n",
      "count  100000.00000\n",
      "mean        4.00103\n",
      "std         2.36031\n",
      "min         1.00000\n",
      "25%         2.00000\n",
      "50%         4.00000\n",
      "75%         6.00000\n",
      "max        17.00000\n",
      "lengthofstay    4.0\n",
      "dtype: float64\n"
     ]
    }
   ],
   "source": [
    "print(outcome.describe())\n",
    "print(outcome.median())"
   ]
  },
  {
   "cell_type": "markdown",
   "id": "43488989-176c-49d5-b0aa-5ca646ff2f2c",
   "metadata": {},
   "source": [
    "### Correlations"
   ]
  },
  {
   "cell_type": "markdown",
   "id": "ee43c4b5-1035-4d2a-bd8d-57804348654b",
   "metadata": {},
   "source": [
    "Associations between the input variables and outcome may be measured for numerical data using __Pearson's correlation coefficient__. Associations do not indicate association, but certain note interactions between variables. "
   ]
  },
  {
   "cell_type": "code",
   "execution_count": 244,
   "id": "73e7ddda-e2e8-4d39-ba4f-6a4c6f718bde",
   "metadata": {
    "scrolled": true
   },
   "outputs": [
    {
     "name": "stdout",
     "output_type": "stream",
     "text": [
      "Saving figure correlation\n"
     ]
    },
    {
     "data": {
      "text/plain": [
       "<Axes: >"
      ]
     },
     "execution_count": 244,
     "metadata": {},
     "output_type": "execute_result"
    },
    {
     "data": {
      "image/png": "[encoded data removed]",
      "text/plain": [
       "<Figure size 640x480 with 2 Axes>"
      ]
     },
     "metadata": {},
     "output_type": "display_data"
    }
   ],
   "source": [
    "corr_numeric = raw_numeric.corrwith(outcome['lengthofstay']).sort_values(ascending=False)\n",
    "save_fig(\"correlation\")\n",
    "sns.heatmap(corr_numeric.to_frame(),annot=True)"
   ]
  },
  {
   "cell_type": "markdown",
   "id": "d9d8e495-7c87-4e4d-8f7b-b869d67652e8",
   "metadata": {},
   "source": [
    "### Feature Selection"
   ]
  },
  {
   "cell_type": "markdown",
   "id": "a3306088-4a2f-412b-afd3-7f56d1ecc447",
   "metadata": {},
   "source": [
    "Feature Selection may be obtained inherently by using Sklearn 'Best Estimators' method after training the models. However, there does appear to some features such columns simply representing IDs that may be removed. It is worth noting that some features may not correlate well on their own; however, in conjunction with other features may prove valuable.  "
   ]
  },
  {
   "cell_type": "code",
   "execution_count": 61,
   "id": "5c201e13-f882-4c49-9399-f02deb7f25f8",
   "metadata": {},
   "outputs": [],
   "source": [
    "# these columns are intentionally drop as they add no value to our model\n",
    "raw_data_copy = raw_data.copy()\n",
    "raw_data = raw_data.drop(['eid','vdate','rcount','gender','discharged','facid','secondarydiagnosisnonicd9'], axis=1)"
   ]
  },
  {
   "cell_type": "markdown",
   "id": "16407537-d12c-4d1d-868f-4ab6cda1e60e",
   "metadata": {},
   "source": [
    "## 4. Model Training"
   ]
  },
  {
   "cell_type": "markdown",
   "id": "b3699ad3-cfa0-4575-8643-8a51617ec73a",
   "metadata": {},
   "source": [
    "### Create Test Set"
   ]
  },
  {
   "cell_type": "markdown",
   "id": "5c1d99f8-428d-4897-bdf0-9235c4f94271",
   "metadata": {},
   "source": [
    "A test set will be obtained by procuring 20% of the data and test values will not be used or seen until testing!"
   ]
  },
  {
   "cell_type": "code",
   "execution_count": 65,
   "id": "e99af309-7419-4620-8cc3-c7a6f3793bb8",
   "metadata": {},
   "outputs": [],
   "source": [
    "from sklearn.model_selection import train_test_split\n",
    "train_set, test_set = train_test_split(raw_data, test_size=0.2, random_state=42)"
   ]
  },
  {
   "cell_type": "markdown",
   "id": "e8740734-32ff-422c-b7cf-2e2f999ccdf2",
   "metadata": {},
   "source": [
    "### Separate Input and Output Variables"
   ]
  },
  {
   "cell_type": "markdown",
   "id": "9a2d5207-67d1-4057-a9df-5be75bf4cf5d",
   "metadata": {},
   "source": [
    "#### Training Set"
   ]
  },
  {
   "cell_type": "code",
   "execution_count": 68,
   "id": "3badcc10-d3a8-4f65-94b3-7bb51dabb258",
   "metadata": {},
   "outputs": [],
   "source": [
    "X = train_set.loc[:, train_set.columns != 'lengthofstay']\n",
    "y = train_set.loc[:, 'lengthofstay']"
   ]
  },
  {
   "cell_type": "markdown",
   "id": "5e0e74e1-1ca5-4220-87eb-cb243f494836",
   "metadata": {},
   "source": [
    "#### Testing Set"
   ]
  },
  {
   "cell_type": "code",
   "execution_count": 70,
   "id": "7a17c438-5e1c-4977-97a2-300b0512e663",
   "metadata": {},
   "outputs": [],
   "source": [
    "X_test = test_set.loc[:, train_set.columns != 'lengthofstay']\n",
    "y_test = test_set.loc[:, 'lengthofstay']"
   ]
  },
  {
   "cell_type": "markdown",
   "id": "8bfe72b7-4663-4dbb-b289-9998385a68a6",
   "metadata": {},
   "source": [
    "### Preprocessing"
   ]
  },
  {
   "cell_type": "markdown",
   "id": "2bca8be5-acd1-49cc-9fac-b67351283998",
   "metadata": {},
   "source": [
    "#### Create Categorical and Numerical Training Sets"
   ]
  },
  {
   "cell_type": "markdown",
   "id": "5a8ba1d4-e112-4f47-9841-b361a4b1b4e9",
   "metadata": {},
   "source": [
    "All of the categorical columns have a maximum value of 1. Perhaps, a more astute way of testing this is test if each column only has two unique value sets (0 or 1)."
   ]
  },
  {
   "cell_type": "code",
   "execution_count": 74,
   "id": "b646d978-b9fa-43d6-9518-d51aa6e3b270",
   "metadata": {
    "scrolled": true
   },
   "outputs": [
    {
     "data": {
      "text/plain": [
       "['dialysisrenalendstage',\n",
       " 'asthma',\n",
       " 'irondef',\n",
       " 'pneum',\n",
       " 'substancedependence',\n",
       " 'psychologicaldisordermajor',\n",
       " 'depress',\n",
       " 'psychother',\n",
       " 'fibrosisandother',\n",
       " 'malnutrition',\n",
       " 'hemo']"
      ]
     },
     "execution_count": 74,
     "metadata": {},
     "output_type": "execute_result"
    }
   ],
   "source": [
    "# create a list of categorical columns where max value is 1\n",
    "cats = []\n",
    "for cols in X:\n",
    "    if X[cols].max() == 1:\n",
    "        cats.append(cols)\n",
    "cats        "
   ]
  },
  {
   "cell_type": "markdown",
   "id": "65568051-9b15-4c46-87e7-087953e0b3b7",
   "metadata": {},
   "source": [
    "##### Categorical"
   ]
  },
  {
   "cell_type": "markdown",
   "id": "b785abbe-addb-4379-b864-01128ccc5928",
   "metadata": {},
   "source": [
    "No further processing is needed since client stores values as 0 and 1."
   ]
  },
  {
   "cell_type": "code",
   "execution_count": 77,
   "id": "e77c09f9-aa1f-43ef-8413-bfa86b901c04",
   "metadata": {
    "scrolled": true
   },
   "outputs": [
    {
     "data": {
      "text/html": [
       "<div>\n",
       "<style scoped>\n",
       "    .dataframe tbody tr th:only-of-type {\n",
       "        vertical-align: middle;\n",
       "    }\n",
       "\n",
       "    .dataframe tbody tr th {\n",
       "        vertical-align: top;\n",
       "    }\n",
       "\n",
       "    .dataframe thead th {\n",
       "        text-align: right;\n",
       "    }\n",
       "</style>\n",
       "<table border=\"1\" class=\"dataframe\">\n",
       "  <thead>\n",
       "    <tr style=\"text-align: right;\">\n",
       "      <th></th>\n",
       "      <th>dialysisrenalendstage</th>\n",
       "      <th>asthma</th>\n",
       "      <th>irondef</th>\n",
       "      <th>pneum</th>\n",
       "      <th>substancedependence</th>\n",
       "      <th>psychologicaldisordermajor</th>\n",
       "      <th>depress</th>\n",
       "      <th>psychother</th>\n",
       "      <th>fibrosisandother</th>\n",
       "      <th>malnutrition</th>\n",
       "      <th>hemo</th>\n",
       "    </tr>\n",
       "  </thead>\n",
       "  <tbody>\n",
       "    <tr>\n",
       "      <th>75220</th>\n",
       "      <td>0</td>\n",
       "      <td>0</td>\n",
       "      <td>0</td>\n",
       "      <td>0</td>\n",
       "      <td>0</td>\n",
       "      <td>0</td>\n",
       "      <td>0</td>\n",
       "      <td>0</td>\n",
       "      <td>0</td>\n",
       "      <td>0</td>\n",
       "      <td>0</td>\n",
       "    </tr>\n",
       "    <tr>\n",
       "      <th>48955</th>\n",
       "      <td>0</td>\n",
       "      <td>0</td>\n",
       "      <td>0</td>\n",
       "      <td>0</td>\n",
       "      <td>0</td>\n",
       "      <td>0</td>\n",
       "      <td>0</td>\n",
       "      <td>0</td>\n",
       "      <td>0</td>\n",
       "      <td>0</td>\n",
       "      <td>0</td>\n",
       "    </tr>\n",
       "    <tr>\n",
       "      <th>44966</th>\n",
       "      <td>0</td>\n",
       "      <td>0</td>\n",
       "      <td>0</td>\n",
       "      <td>0</td>\n",
       "      <td>0</td>\n",
       "      <td>0</td>\n",
       "      <td>0</td>\n",
       "      <td>0</td>\n",
       "      <td>0</td>\n",
       "      <td>0</td>\n",
       "      <td>0</td>\n",
       "    </tr>\n",
       "    <tr>\n",
       "      <th>13568</th>\n",
       "      <td>0</td>\n",
       "      <td>0</td>\n",
       "      <td>0</td>\n",
       "      <td>0</td>\n",
       "      <td>0</td>\n",
       "      <td>1</td>\n",
       "      <td>0</td>\n",
       "      <td>0</td>\n",
       "      <td>0</td>\n",
       "      <td>0</td>\n",
       "      <td>0</td>\n",
       "    </tr>\n",
       "    <tr>\n",
       "      <th>92727</th>\n",
       "      <td>0</td>\n",
       "      <td>0</td>\n",
       "      <td>0</td>\n",
       "      <td>0</td>\n",
       "      <td>0</td>\n",
       "      <td>0</td>\n",
       "      <td>0</td>\n",
       "      <td>0</td>\n",
       "      <td>0</td>\n",
       "      <td>0</td>\n",
       "      <td>0</td>\n",
       "    </tr>\n",
       "  </tbody>\n",
       "</table>\n",
       "</div>"
      ],
      "text/plain": [
       "       dialysisrenalendstage  asthma  irondef  pneum  substancedependence  \\\n",
       "75220                      0       0        0      0                    0   \n",
       "48955                      0       0        0      0                    0   \n",
       "44966                      0       0        0      0                    0   \n",
       "13568                      0       0        0      0                    0   \n",
       "92727                      0       0        0      0                    0   \n",
       "\n",
       "       psychologicaldisordermajor  depress  psychother  fibrosisandother  \\\n",
       "75220                           0        0           0                 0   \n",
       "48955                           0        0           0                 0   \n",
       "44966                           0        0           0                 0   \n",
       "13568                           1        0           0                 0   \n",
       "92727                           0        0           0                 0   \n",
       "\n",
       "       malnutrition  hemo  \n",
       "75220             0     0  \n",
       "48955             0     0  \n",
       "44966             0     0  \n",
       "13568             0     0  \n",
       "92727             0     0  "
      ]
     },
     "execution_count": 77,
     "metadata": {},
     "output_type": "execute_result"
    }
   ],
   "source": [
    "X_cat = X.loc[:,cats]\n",
    "X_cat.head()"
   ]
  },
  {
   "cell_type": "code",
   "execution_count": 78,
   "id": "1f01fdad-6459-4631-bf8b-1187014e555d",
   "metadata": {},
   "outputs": [
    {
     "data": {
      "text/plain": [
       "(80000, 11)"
      ]
     },
     "execution_count": 78,
     "metadata": {},
     "output_type": "execute_result"
    }
   ],
   "source": [
    "X_cat.shape"
   ]
  },
  {
   "cell_type": "markdown",
   "id": "69088457-f9ff-45fe-bc99-53d5deb7f916",
   "metadata": {},
   "source": [
    "##### Numerical"
   ]
  },
  {
   "cell_type": "code",
   "execution_count": 80,
   "id": "61ef15ed-9f6b-4e45-a746-16ec4217d53f",
   "metadata": {},
   "outputs": [
    {
     "data": {
      "text/html": [
       "<div>\n",
       "<style scoped>\n",
       "    .dataframe tbody tr th:only-of-type {\n",
       "        vertical-align: middle;\n",
       "    }\n",
       "\n",
       "    .dataframe tbody tr th {\n",
       "        vertical-align: top;\n",
       "    }\n",
       "\n",
       "    .dataframe thead th {\n",
       "        text-align: right;\n",
       "    }\n",
       "</style>\n",
       "<table border=\"1\" class=\"dataframe\">\n",
       "  <thead>\n",
       "    <tr style=\"text-align: right;\">\n",
       "      <th></th>\n",
       "      <th>hematocrit</th>\n",
       "      <th>neutrophils</th>\n",
       "      <th>sodium</th>\n",
       "      <th>glucose</th>\n",
       "      <th>bloodureanitro</th>\n",
       "      <th>creatinine</th>\n",
       "      <th>bmi</th>\n",
       "      <th>pulse</th>\n",
       "      <th>respiration</th>\n",
       "    </tr>\n",
       "  </thead>\n",
       "  <tbody>\n",
       "    <tr>\n",
       "      <th>75220</th>\n",
       "      <td>12.5</td>\n",
       "      <td>14.2</td>\n",
       "      <td>139.144523</td>\n",
       "      <td>194.918958</td>\n",
       "      <td>12.0</td>\n",
       "      <td>1.162631</td>\n",
       "      <td>30.813324</td>\n",
       "      <td>72</td>\n",
       "      <td>6.5</td>\n",
       "    </tr>\n",
       "    <tr>\n",
       "      <th>48955</th>\n",
       "      <td>13.0</td>\n",
       "      <td>8.0</td>\n",
       "      <td>135.986192</td>\n",
       "      <td>159.994508</td>\n",
       "      <td>13.0</td>\n",
       "      <td>0.931362</td>\n",
       "      <td>28.777008</td>\n",
       "      <td>77</td>\n",
       "      <td>7.7</td>\n",
       "    </tr>\n",
       "    <tr>\n",
       "      <th>44966</th>\n",
       "      <td>10.9</td>\n",
       "      <td>16.1</td>\n",
       "      <td>140.209158</td>\n",
       "      <td>143.880164</td>\n",
       "      <td>8.0</td>\n",
       "      <td>1.191925</td>\n",
       "      <td>29.199398</td>\n",
       "      <td>62</td>\n",
       "      <td>6.5</td>\n",
       "    </tr>\n",
       "    <tr>\n",
       "      <th>13568</th>\n",
       "      <td>13.7</td>\n",
       "      <td>10.9</td>\n",
       "      <td>133.763887</td>\n",
       "      <td>172.832680</td>\n",
       "      <td>29.0</td>\n",
       "      <td>1.366344</td>\n",
       "      <td>30.367111</td>\n",
       "      <td>64</td>\n",
       "      <td>6.5</td>\n",
       "    </tr>\n",
       "    <tr>\n",
       "      <th>92727</th>\n",
       "      <td>12.2</td>\n",
       "      <td>6.3</td>\n",
       "      <td>140.224606</td>\n",
       "      <td>144.676235</td>\n",
       "      <td>13.0</td>\n",
       "      <td>0.867665</td>\n",
       "      <td>28.706147</td>\n",
       "      <td>68</td>\n",
       "      <td>6.5</td>\n",
       "    </tr>\n",
       "  </tbody>\n",
       "</table>\n",
       "</div>"
      ],
      "text/plain": [
       "       hematocrit  neutrophils      sodium     glucose  bloodureanitro  \\\n",
       "75220        12.5         14.2  139.144523  194.918958            12.0   \n",
       "48955        13.0          8.0  135.986192  159.994508            13.0   \n",
       "44966        10.9         16.1  140.209158  143.880164             8.0   \n",
       "13568        13.7         10.9  133.763887  172.832680            29.0   \n",
       "92727        12.2          6.3  140.224606  144.676235            13.0   \n",
       "\n",
       "       creatinine        bmi  pulse  respiration  \n",
       "75220    1.162631  30.813324     72          6.5  \n",
       "48955    0.931362  28.777008     77          7.7  \n",
       "44966    1.191925  29.199398     62          6.5  \n",
       "13568    1.366344  30.367111     64          6.5  \n",
       "92727    0.867665  28.706147     68          6.5  "
      ]
     },
     "execution_count": 80,
     "metadata": {},
     "output_type": "execute_result"
    }
   ],
   "source": [
    "X_num = X.drop(cats,axis=1)\n",
    "X_num.head()"
   ]
  },
  {
   "cell_type": "code",
   "execution_count": 81,
   "id": "dbaf88dc-9b93-4283-b09b-7f14e327bfcc",
   "metadata": {},
   "outputs": [
    {
     "data": {
      "text/plain": [
       "(80000, 9)"
      ]
     },
     "execution_count": 81,
     "metadata": {},
     "output_type": "execute_result"
    }
   ],
   "source": [
    "X_num.shape"
   ]
  },
  {
   "cell_type": "markdown",
   "id": "8290058f-2fa1-4cb3-a658-377934702688",
   "metadata": {},
   "source": [
    "#### One Hot Encoding"
   ]
  },
  {
   "cell_type": "markdown",
   "id": "869e7523-2708-40e3-8ffe-eb700e1d7ccd",
   "metadata": {},
   "source": [
    "Machine learning algorithms do not work on categorical data, this data must be converted to a numeric form. Categorical data instances are subdivided into their own columns where presence of the feature is represented by 1 and absence as a 0. For example, are gender column contains male and female legal sex contained as instances within one column in the raw data. However, in the processed data below, each instance will be converted into a column (male column, female column)."
   ]
  },
  {
   "cell_type": "markdown",
   "id": "a430575a-3725-483a-bfa7-ddba9a06aed1",
   "metadata": {},
   "source": [
    "#### Scaling"
   ]
  },
  {
   "cell_type": "markdown",
   "id": "59fec667-55a5-494f-9c69-fb1392d7896f",
   "metadata": {},
   "source": [
    "Scaling the data is imperative to training the model as each feature will be on the same _playing field_ as values in each feature are all scaled using standardization. Standardization allows the standard deviation to be subtract from each value then divided by mean."
   ]
  },
  {
   "cell_type": "code",
   "execution_count": 86,
   "id": "1a38c1af-6635-40ef-928e-c77b4a56f574",
   "metadata": {},
   "outputs": [
    {
     "data": {
      "text/plain": [
       "(80000, 9)"
      ]
     },
     "execution_count": 86,
     "metadata": {},
     "output_type": "execute_result"
    }
   ],
   "source": [
    "from sklearn.preprocessing import StandardScaler\n",
    "num_scaler = StandardScaler()\n",
    "X_num_scaler = num_scaler.fit_transform(X_num)\n",
    "X_num_scaler.shape\n",
    "# Use     num_scaler.inverse_transform(X_num_scaler)      to  reobtain orginal values!!!"
   ]
  },
  {
   "cell_type": "markdown",
   "id": "0d68db95-c859-4976-a38e-7defc5d64982",
   "metadata": {},
   "source": [
    "#### Recombined the Processed Categorical and Numerical Training Data"
   ]
  },
  {
   "cell_type": "markdown",
   "id": "094e03a0-2cbe-407d-93ed-9fc5734ab0a2",
   "metadata": {},
   "source": [
    "When recombining the categorical and numerical data sets, it is imperative to reset the index on the categorical data set since it will have the original indices. The numerical data set indices were naturally removed after converted the numerical data set to a numpy array during the Scaling process. When re-creating the numerical data frame, the indices are reset to 0 by default, but the categorical data set will have the indices created randomly during the train_test_split functioning!!!\n",
    "<br><br>\n",
    "The purpose of creating a data frame is simply to be able to save the processed data itself as a .csv file and I perfer `Pandas` over `Numpy` for any last minute functioning that might be needed."
   ]
  },
  {
   "cell_type": "code",
   "execution_count": 89,
   "id": "9a946400-c9be-4502-84c6-68261816072a",
   "metadata": {
    "scrolled": true
   },
   "outputs": [
    {
     "data": {
      "text/html": [
       "<div>\n",
       "<style scoped>\n",
       "    .dataframe tbody tr th:only-of-type {\n",
       "        vertical-align: middle;\n",
       "    }\n",
       "\n",
       "    .dataframe tbody tr th {\n",
       "        vertical-align: top;\n",
       "    }\n",
       "\n",
       "    .dataframe thead th {\n",
       "        text-align: right;\n",
       "    }\n",
       "</style>\n",
       "<table border=\"1\" class=\"dataframe\">\n",
       "  <thead>\n",
       "    <tr style=\"text-align: right;\">\n",
       "      <th></th>\n",
       "      <th>hematocrit</th>\n",
       "      <th>neutrophils</th>\n",
       "      <th>sodium</th>\n",
       "      <th>glucose</th>\n",
       "      <th>bloodureanitro</th>\n",
       "      <th>creatinine</th>\n",
       "      <th>bmi</th>\n",
       "      <th>pulse</th>\n",
       "      <th>respiration</th>\n",
       "      <th>dialysisrenalendstage</th>\n",
       "      <th>asthma</th>\n",
       "      <th>irondef</th>\n",
       "      <th>pneum</th>\n",
       "      <th>substancedependence</th>\n",
       "      <th>psychologicaldisordermajor</th>\n",
       "      <th>depress</th>\n",
       "      <th>psychother</th>\n",
       "      <th>fibrosisandother</th>\n",
       "      <th>malnutrition</th>\n",
       "      <th>hemo</th>\n",
       "    </tr>\n",
       "  </thead>\n",
       "  <tbody>\n",
       "    <tr>\n",
       "      <th>0</th>\n",
       "      <td>0.255949</td>\n",
       "      <td>0.781822</td>\n",
       "      <td>0.419419</td>\n",
       "      <td>1.762705</td>\n",
       "      <td>-0.160499</td>\n",
       "      <td>0.315837</td>\n",
       "      <td>0.502160</td>\n",
       "      <td>-0.124876</td>\n",
       "      <td>0.014293</td>\n",
       "      <td>0</td>\n",
       "      <td>0</td>\n",
       "      <td>0</td>\n",
       "      <td>0</td>\n",
       "      <td>0</td>\n",
       "      <td>0</td>\n",
       "      <td>0</td>\n",
       "      <td>0</td>\n",
       "      <td>0</td>\n",
       "      <td>0</td>\n",
       "      <td>0</td>\n",
       "    </tr>\n",
       "    <tr>\n",
       "      <th>1</th>\n",
       "      <td>0.501588</td>\n",
       "      <td>-0.423052</td>\n",
       "      <td>-0.633077</td>\n",
       "      <td>0.600092</td>\n",
       "      <td>-0.084290</td>\n",
       "      <td>-0.838849</td>\n",
       "      <td>-0.513493</td>\n",
       "      <td>0.303876</td>\n",
       "      <td>2.123556</td>\n",
       "      <td>0</td>\n",
       "      <td>0</td>\n",
       "      <td>0</td>\n",
       "      <td>0</td>\n",
       "      <td>0</td>\n",
       "      <td>0</td>\n",
       "      <td>0</td>\n",
       "      <td>0</td>\n",
       "      <td>0</td>\n",
       "      <td>0</td>\n",
       "      <td>0</td>\n",
       "    </tr>\n",
       "    <tr>\n",
       "      <th>2</th>\n",
       "      <td>-0.530094</td>\n",
       "      <td>1.151057</td>\n",
       "      <td>0.774203</td>\n",
       "      <td>0.063656</td>\n",
       "      <td>-0.465337</td>\n",
       "      <td>0.462097</td>\n",
       "      <td>-0.302818</td>\n",
       "      <td>-0.982381</td>\n",
       "      <td>0.014293</td>\n",
       "      <td>0</td>\n",
       "      <td>0</td>\n",
       "      <td>0</td>\n",
       "      <td>0</td>\n",
       "      <td>0</td>\n",
       "      <td>0</td>\n",
       "      <td>0</td>\n",
       "      <td>0</td>\n",
       "      <td>0</td>\n",
       "      <td>0</td>\n",
       "      <td>0</td>\n",
       "    </tr>\n",
       "    <tr>\n",
       "      <th>3</th>\n",
       "      <td>0.845482</td>\n",
       "      <td>0.140518</td>\n",
       "      <td>-1.373647</td>\n",
       "      <td>1.027467</td>\n",
       "      <td>1.135060</td>\n",
       "      <td>1.332938</td>\n",
       "      <td>0.279603</td>\n",
       "      <td>-0.810880</td>\n",
       "      <td>0.014293</td>\n",
       "      <td>0</td>\n",
       "      <td>0</td>\n",
       "      <td>0</td>\n",
       "      <td>0</td>\n",
       "      <td>0</td>\n",
       "      <td>1</td>\n",
       "      <td>0</td>\n",
       "      <td>0</td>\n",
       "      <td>0</td>\n",
       "      <td>0</td>\n",
       "      <td>0</td>\n",
       "    </tr>\n",
       "    <tr>\n",
       "      <th>4</th>\n",
       "      <td>0.108566</td>\n",
       "      <td>-0.753420</td>\n",
       "      <td>0.779351</td>\n",
       "      <td>0.090157</td>\n",
       "      <td>-0.084290</td>\n",
       "      <td>-1.156876</td>\n",
       "      <td>-0.548837</td>\n",
       "      <td>-0.467878</td>\n",
       "      <td>0.014293</td>\n",
       "      <td>0</td>\n",
       "      <td>0</td>\n",
       "      <td>0</td>\n",
       "      <td>0</td>\n",
       "      <td>0</td>\n",
       "      <td>0</td>\n",
       "      <td>0</td>\n",
       "      <td>0</td>\n",
       "      <td>0</td>\n",
       "      <td>0</td>\n",
       "      <td>0</td>\n",
       "    </tr>\n",
       "  </tbody>\n",
       "</table>\n",
       "</div>"
      ],
      "text/plain": [
       "   hematocrit  neutrophils    sodium   glucose  bloodureanitro  creatinine  \\\n",
       "0    0.255949     0.781822  0.419419  1.762705       -0.160499    0.315837   \n",
       "1    0.501588    -0.423052 -0.633077  0.600092       -0.084290   -0.838849   \n",
       "2   -0.530094     1.151057  0.774203  0.063656       -0.465337    0.462097   \n",
       "3    0.845482     0.140518 -1.373647  1.027467        1.135060    1.332938   \n",
       "4    0.108566    -0.753420  0.779351  0.090157       -0.084290   -1.156876   \n",
       "\n",
       "        bmi     pulse  respiration  dialysisrenalendstage  asthma  irondef  \\\n",
       "0  0.502160 -0.124876     0.014293                      0       0        0   \n",
       "1 -0.513493  0.303876     2.123556                      0       0        0   \n",
       "2 -0.302818 -0.982381     0.014293                      0       0        0   \n",
       "3  0.279603 -0.810880     0.014293                      0       0        0   \n",
       "4 -0.548837 -0.467878     0.014293                      0       0        0   \n",
       "\n",
       "   pneum  substancedependence  psychologicaldisordermajor  depress  \\\n",
       "0      0                    0                           0        0   \n",
       "1      0                    0                           0        0   \n",
       "2      0                    0                           0        0   \n",
       "3      0                    0                           1        0   \n",
       "4      0                    0                           0        0   \n",
       "\n",
       "   psychother  fibrosisandother  malnutrition  hemo  \n",
       "0           0                 0             0     0  \n",
       "1           0                 0             0     0  \n",
       "2           0                 0             0     0  \n",
       "3           0                 0             0     0  \n",
       "4           0                 0             0     0  "
      ]
     },
     "execution_count": 89,
     "metadata": {},
     "output_type": "execute_result"
    }
   ],
   "source": [
    "X_num_scaler_df = pd.DataFrame(X_num_scaler,columns=X_num.columns)\n",
    "X_processed = pd.concat([X_num_scaler_df, X_cat.reset_index(drop=True)], axis=1)\n",
    "X_processed.head()"
   ]
  },
  {
   "cell_type": "markdown",
   "id": "7ad57bcf-9cf9-4ed4-93be-398f0a90d46e",
   "metadata": {},
   "source": [
    "#### Rows - Columns  - Missing Values - Final Check!!"
   ]
  },
  {
   "cell_type": "markdown",
   "id": "bb4697d0-fcf9-43b7-bf08-d9411ade2859",
   "metadata": {},
   "source": [
    "Looks good!"
   ]
  },
  {
   "cell_type": "code",
   "execution_count": 92,
   "id": "1220fb73-c954-407e-87d7-21ccbe800f30",
   "metadata": {},
   "outputs": [
    {
     "data": {
      "text/plain": [
       "((80000, 20),\n",
       " hematocrit                    0\n",
       " neutrophils                   0\n",
       " sodium                        0\n",
       " glucose                       0\n",
       " bloodureanitro                0\n",
       " creatinine                    0\n",
       " bmi                           0\n",
       " pulse                         0\n",
       " respiration                   0\n",
       " dialysisrenalendstage         0\n",
       " asthma                        0\n",
       " irondef                       0\n",
       " pneum                         0\n",
       " substancedependence           0\n",
       " psychologicaldisordermajor    0\n",
       " depress                       0\n",
       " psychother                    0\n",
       " fibrosisandother              0\n",
       " malnutrition                  0\n",
       " hemo                          0\n",
       " dtype: int64)"
      ]
     },
     "execution_count": 92,
     "metadata": {},
     "output_type": "execute_result"
    }
   ],
   "source": [
    "qc(X_processed)"
   ]
  },
  {
   "cell_type": "markdown",
   "id": "0f10e3c7-d80e-47c2-9d18-11bb7220c9d6",
   "metadata": {},
   "source": [
    "##### Save a copy of the processed data"
   ]
  },
  {
   "cell_type": "code",
   "execution_count": 94,
   "id": "5c5375b0-500a-4e29-9d6d-fe1787789358",
   "metadata": {},
   "outputs": [
    {
     "name": "stderr",
     "output_type": "stream",
     "text": [
      "<>:1: SyntaxWarning: invalid escape sequence '\\P'\n",
      "<>:1: SyntaxWarning: invalid escape sequence '\\P'\n",
      "C:\\Users\\rcbre\\AppData\\Local\\Temp\\ipykernel_10092\\1900706162.py:1: SyntaxWarning: invalid escape sequence '\\P'\n",
      "  X_processed.to_csv('D:\\Projects\\Predicting Length of Stays for ER Visits\\data\\processed_data.csv')\n"
     ]
    }
   ],
   "source": [
    "X_processed.to_csv('D:\\Projects\\Predicting Length of Stays for ER Visits\\data\\processed_data.csv')"
   ]
  },
  {
   "cell_type": "markdown",
   "id": "60a28978-4ba9-45fb-a49d-2b794ed35503",
   "metadata": {},
   "source": [
    "#### Create an ETL Function for Preprocessing"
   ]
  },
  {
   "cell_type": "markdown",
   "id": "f0b0ae2f-a8ec-4278-8901-666b2e73320a",
   "metadata": {},
   "source": [
    "Note, the following steps taken above were performed indvidually for demonstration purposes. However, the more efficient method of performing the preprocessing step for future use is to simply create a Python function."
   ]
  },
  {
   "cell_type": "code",
   "execution_count": 97,
   "id": "8e7791df-0291-4515-9c2c-9e2bc2f55108",
   "metadata": {},
   "outputs": [],
   "source": [
    "# Function to perform preprocessing\n",
    "def preprocess(X):\n",
    "    cats_ = []\n",
    "    for cols in X_:\n",
    "        if X_[cols].max() == 1:\n",
    "            cats.append(cols) \n",
    "    # create categorical and numerical dfs\n",
    "    X_cat_ = X.loc[:,cats_]\n",
    "    X_num_ = X.drop(cats_,axis=1)\n",
    "    \n",
    "    # scale numerical df\n",
    "    from sklearn.preprocessing import StandardScaler\n",
    "    num_scaler_ = StandardScaler()\n",
    "    X_num_scaler_ = num_scaler_.fit_transform(X_num_)\n",
    "    \n",
    "    # combined scaled numerical df and X_cat\n",
    "    X_num_scaler_df_ = pd.DataFrame(X_num_scaler_,columns=X_num_.columns)\n",
    "    X_processed_= pd.concat([X_num_scaler_df_, X_cat_.reset_index(drop=True)], axis=1)\n",
    "    return X_processed_"
   ]
  },
  {
   "cell_type": "markdown",
   "id": "afd3c57d-449e-45fa-9aba-072b13adc029",
   "metadata": {},
   "source": [
    "### Traning each Model"
   ]
  },
  {
   "cell_type": "markdown",
   "id": "eaf2680c-2bbb-4d1a-86ce-6611056859d6",
   "metadata": {},
   "source": [
    "#### Linear Regression"
   ]
  },
  {
   "cell_type": "markdown",
   "id": "2852c0f6-2185-4434-a593-80973ab393c6",
   "metadata": {},
   "source": [
    "__Linear regression__ creates a linear equation using the classic __Y=β0+β1X+ε__ equation where  β (beta) serves as weights and ε (epsilon) as an error term to allow for predictions Y. The main idea, to reduce the errors, or distances of the data to the model (line) as a collective group (considering all data points). "
   ]
  },
  {
   "cell_type": "markdown",
   "id": "1da4e14c-673c-422d-b757-ddf223be9886",
   "metadata": {},
   "source": [
    "__Linear Regression__ modeling requires certain assumptions to be met.\n",
    "<br><br>\n",
    "__Assumptions:__\n",
    "<br><br>\n",
    "1. Linearity: The relationship between the dependent and independent variables is linear.\n",
    "2. Independence: The observations are independent of each other.\n",
    "3. Homoscedasticity: The variance of the errors is constant across all levels of the independent variables. __(for the errors only!!)__\n",
    "4. Normality: The errors follow a normal distribution. __(for the errors only!!)__\n",
    "5. No multicollinearity in the data.\n",
    "<br><br>\n",
    "We will verify the assumptions using residual plots, qq plots, and plotting the linear regression line itself!"
   ]
  },
  {
   "cell_type": "code",
   "execution_count": 102,
   "id": "69319730-86f4-4fe3-a378-ed1caefe70d4",
   "metadata": {},
   "outputs": [
    {
     "data": {
      "text/html": [
       "<style>#sk-container-id-1 {\n",
       "  /* Definition of color scheme common for light and dark mode */\n",
       "  --sklearn-color-text: black;\n",
       "  --sklearn-color-line: gray;\n",
       "  /* Definition of color scheme for unfitted estimators */\n",
       "  --sklearn-color-unfitted-level-0: #fff5e6;\n",
       "  --sklearn-color-unfitted-level-1: #f6e4d2;\n",
       "  --sklearn-color-unfitted-level-2: #ffe0b3;\n",
       "  --sklearn-color-unfitted-level-3: chocolate;\n",
       "  /* Definition of color scheme for fitted estimators */\n",
       "  --sklearn-color-fitted-level-0: #f0f8ff;\n",
       "  --sklearn-color-fitted-level-1: #d4ebff;\n",
       "  --sklearn-color-fitted-level-2: #b3dbfd;\n",
       "  --sklearn-color-fitted-level-3: cornflowerblue;\n",
       "\n",
       "  /* Specific color for light theme */\n",
       "  --sklearn-color-text-on-default-background: var(--sg-text-color, var(--theme-code-foreground, var(--jp-content-font-color1, black)));\n",
       "  --sklearn-color-background: var(--sg-background-color, var(--theme-background, var(--jp-layout-color0, white)));\n",
       "  --sklearn-color-border-box: var(--sg-text-color, var(--theme-code-foreground, var(--jp-content-font-color1, black)));\n",
       "  --sklearn-color-icon: #696969;\n",
       "\n",
       "  @media (prefers-color-scheme: dark) {\n",
       "    /* Redefinition of color scheme for dark theme */\n",
       "    --sklearn-color-text-on-default-background: var(--sg-text-color, var(--theme-code-foreground, var(--jp-content-font-color1, white)));\n",
       "    --sklearn-color-background: var(--sg-background-color, var(--theme-background, var(--jp-layout-color0, #111)));\n",
       "    --sklearn-color-border-box: var(--sg-text-color, var(--theme-code-foreground, var(--jp-content-font-color1, white)));\n",
       "    --sklearn-color-icon: #878787;\n",
       "  }\n",
       "}\n",
       "\n",
       "#sk-container-id-1 {\n",
       "  color: var(--sklearn-color-text);\n",
       "}\n",
       "\n",
       "#sk-container-id-1 pre {\n",
       "  padding: 0;\n",
       "}\n",
       "\n",
       "#sk-container-id-1 input.sk-hidden--visually {\n",
       "  border: 0;\n",
       "  clip: rect(1px 1px 1px 1px);\n",
       "  clip: rect(1px, 1px, 1px, 1px);\n",
       "  height: 1px;\n",
       "  margin: -1px;\n",
       "  overflow: hidden;\n",
       "  padding: 0;\n",
       "  position: absolute;\n",
       "  width: 1px;\n",
       "}\n",
       "\n",
       "#sk-container-id-1 div.sk-dashed-wrapped {\n",
       "  border: 1px dashed var(--sklearn-color-line);\n",
       "  margin: 0 0.4em 0.5em 0.4em;\n",
       "  box-sizing: border-box;\n",
       "  padding-bottom: 0.4em;\n",
       "  background-color: var(--sklearn-color-background);\n",
       "}\n",
       "\n",
       "#sk-container-id-1 div.sk-container {\n",
       "  /* jupyter's `normalize.less` sets `[hidden] { display: none; }`\n",
       "     but bootstrap.min.css set `[hidden] { display: none !important; }`\n",
       "     so we also need the `!important` here to be able to override the\n",
       "     default hidden behavior on the sphinx rendered scikit-learn.org.\n",
       "     See: https://github.com/scikit-learn/scikit-learn/issues/21755 */\n",
       "  display: inline-block !important;\n",
       "  position: relative;\n",
       "}\n",
       "\n",
       "#sk-container-id-1 div.sk-text-repr-fallback {\n",
       "  display: none;\n",
       "}\n",
       "\n",
       "div.sk-parallel-item,\n",
       "div.sk-serial,\n",
       "div.sk-item {\n",
       "  /* draw centered vertical line to link estimators */\n",
       "  background-image: linear-gradient(var(--sklearn-color-text-on-default-background), var(--sklearn-color-text-on-default-background));\n",
       "  background-size: 2px 100%;\n",
       "  background-repeat: no-repeat;\n",
       "  background-position: center center;\n",
       "}\n",
       "\n",
       "/* Parallel-specific style estimator block */\n",
       "\n",
       "#sk-container-id-1 div.sk-parallel-item::after {\n",
       "  content: \"\";\n",
       "  width: 100%;\n",
       "  border-bottom: 2px solid var(--sklearn-color-text-on-default-background);\n",
       "  flex-grow: 1;\n",
       "}\n",
       "\n",
       "#sk-container-id-1 div.sk-parallel {\n",
       "  display: flex;\n",
       "  align-items: stretch;\n",
       "  justify-content: center;\n",
       "  background-color: var(--sklearn-color-background);\n",
       "  position: relative;\n",
       "}\n",
       "\n",
       "#sk-container-id-1 div.sk-parallel-item {\n",
       "  display: flex;\n",
       "  flex-direction: column;\n",
       "}\n",
       "\n",
       "#sk-container-id-1 div.sk-parallel-item:first-child::after {\n",
       "  align-self: flex-end;\n",
       "  width: 50%;\n",
       "}\n",
       "\n",
       "#sk-container-id-1 div.sk-parallel-item:last-child::after {\n",
       "  align-self: flex-start;\n",
       "  width: 50%;\n",
       "}\n",
       "\n",
       "#sk-container-id-1 div.sk-parallel-item:only-child::after {\n",
       "  width: 0;\n",
       "}\n",
       "\n",
       "/* Serial-specific style estimator block */\n",
       "\n",
       "#sk-container-id-1 div.sk-serial {\n",
       "  display: flex;\n",
       "  flex-direction: column;\n",
       "  align-items: center;\n",
       "  background-color: var(--sklearn-color-background);\n",
       "  padding-right: 1em;\n",
       "  padding-left: 1em;\n",
       "}\n",
       "\n",
       "\n",
       "/* Toggleable style: style used for estimator/Pipeline/ColumnTransformer box that is\n",
       "clickable and can be expanded/collapsed.\n",
       "- Pipeline and ColumnTransformer use this feature and define the default style\n",
       "- Estimators will overwrite some part of the style using the `sk-estimator` class\n",
       "*/\n",
       "\n",
       "/* Pipeline and ColumnTransformer style (default) */\n",
       "\n",
       "#sk-container-id-1 div.sk-toggleable {\n",
       "  /* Default theme specific background. It is overwritten whether we have a\n",
       "  specific estimator or a Pipeline/ColumnTransformer */\n",
       "  background-color: var(--sklearn-color-background);\n",
       "}\n",
       "\n",
       "/* Toggleable label */\n",
       "#sk-container-id-1 label.sk-toggleable__label {\n",
       "  cursor: pointer;\n",
       "  display: block;\n",
       "  width: 100%;\n",
       "  margin-bottom: 0;\n",
       "  padding: 0.5em;\n",
       "  box-sizing: border-box;\n",
       "  text-align: center;\n",
       "}\n",
       "\n",
       "#sk-container-id-1 label.sk-toggleable__label-arrow:before {\n",
       "  /* Arrow on the left of the label */\n",
       "  content: \"▸\";\n",
       "  float: left;\n",
       "  margin-right: 0.25em;\n",
       "  color: var(--sklearn-color-icon);\n",
       "}\n",
       "\n",
       "#sk-container-id-1 label.sk-toggleable__label-arrow:hover:before {\n",
       "  color: var(--sklearn-color-text);\n",
       "}\n",
       "\n",
       "/* Toggleable content - dropdown */\n",
       "\n",
       "#sk-container-id-1 div.sk-toggleable__content {\n",
       "  max-height: 0;\n",
       "  max-width: 0;\n",
       "  overflow: hidden;\n",
       "  text-align: left;\n",
       "  /* unfitted */\n",
       "  background-color: var(--sklearn-color-unfitted-level-0);\n",
       "}\n",
       "\n",
       "#sk-container-id-1 div.sk-toggleable__content.fitted {\n",
       "  /* fitted */\n",
       "  background-color: var(--sklearn-color-fitted-level-0);\n",
       "}\n",
       "\n",
       "#sk-container-id-1 div.sk-toggleable__content pre {\n",
       "  margin: 0.2em;\n",
       "  border-radius: 0.25em;\n",
       "  color: var(--sklearn-color-text);\n",
       "  /* unfitted */\n",
       "  background-color: var(--sklearn-color-unfitted-level-0);\n",
       "}\n",
       "\n",
       "#sk-container-id-1 div.sk-toggleable__content.fitted pre {\n",
       "  /* unfitted */\n",
       "  background-color: var(--sklearn-color-fitted-level-0);\n",
       "}\n",
       "\n",
       "#sk-container-id-1 input.sk-toggleable__control:checked~div.sk-toggleable__content {\n",
       "  /* Expand drop-down */\n",
       "  max-height: 200px;\n",
       "  max-width: 100%;\n",
       "  overflow: auto;\n",
       "}\n",
       "\n",
       "#sk-container-id-1 input.sk-toggleable__control:checked~label.sk-toggleable__label-arrow:before {\n",
       "  content: \"▾\";\n",
       "}\n",
       "\n",
       "/* Pipeline/ColumnTransformer-specific style */\n",
       "\n",
       "#sk-container-id-1 div.sk-label input.sk-toggleable__control:checked~label.sk-toggleable__label {\n",
       "  color: var(--sklearn-color-text);\n",
       "  background-color: var(--sklearn-color-unfitted-level-2);\n",
       "}\n",
       "\n",
       "#sk-container-id-1 div.sk-label.fitted input.sk-toggleable__control:checked~label.sk-toggleable__label {\n",
       "  background-color: var(--sklearn-color-fitted-level-2);\n",
       "}\n",
       "\n",
       "/* Estimator-specific style */\n",
       "\n",
       "/* Colorize estimator box */\n",
       "#sk-container-id-1 div.sk-estimator input.sk-toggleable__control:checked~label.sk-toggleable__label {\n",
       "  /* unfitted */\n",
       "  background-color: var(--sklearn-color-unfitted-level-2);\n",
       "}\n",
       "\n",
       "#sk-container-id-1 div.sk-estimator.fitted input.sk-toggleable__control:checked~label.sk-toggleable__label {\n",
       "  /* fitted */\n",
       "  background-color: var(--sklearn-color-fitted-level-2);\n",
       "}\n",
       "\n",
       "#sk-container-id-1 div.sk-label label.sk-toggleable__label,\n",
       "#sk-container-id-1 div.sk-label label {\n",
       "  /* The background is the default theme color */\n",
       "  color: var(--sklearn-color-text-on-default-background);\n",
       "}\n",
       "\n",
       "/* On hover, darken the color of the background */\n",
       "#sk-container-id-1 div.sk-label:hover label.sk-toggleable__label {\n",
       "  color: var(--sklearn-color-text);\n",
       "  background-color: var(--sklearn-color-unfitted-level-2);\n",
       "}\n",
       "\n",
       "/* Label box, darken color on hover, fitted */\n",
       "#sk-container-id-1 div.sk-label.fitted:hover label.sk-toggleable__label.fitted {\n",
       "  color: var(--sklearn-color-text);\n",
       "  background-color: var(--sklearn-color-fitted-level-2);\n",
       "}\n",
       "\n",
       "/* Estimator label */\n",
       "\n",
       "#sk-container-id-1 div.sk-label label {\n",
       "  font-family: monospace;\n",
       "  font-weight: bold;\n",
       "  display: inline-block;\n",
       "  line-height: 1.2em;\n",
       "}\n",
       "\n",
       "#sk-container-id-1 div.sk-label-container {\n",
       "  text-align: center;\n",
       "}\n",
       "\n",
       "/* Estimator-specific */\n",
       "#sk-container-id-1 div.sk-estimator {\n",
       "  font-family: monospace;\n",
       "  border: 1px dotted var(--sklearn-color-border-box);\n",
       "  border-radius: 0.25em;\n",
       "  box-sizing: border-box;\n",
       "  margin-bottom: 0.5em;\n",
       "  /* unfitted */\n",
       "  background-color: var(--sklearn-color-unfitted-level-0);\n",
       "}\n",
       "\n",
       "#sk-container-id-1 div.sk-estimator.fitted {\n",
       "  /* fitted */\n",
       "  background-color: var(--sklearn-color-fitted-level-0);\n",
       "}\n",
       "\n",
       "/* on hover */\n",
       "#sk-container-id-1 div.sk-estimator:hover {\n",
       "  /* unfitted */\n",
       "  background-color: var(--sklearn-color-unfitted-level-2);\n",
       "}\n",
       "\n",
       "#sk-container-id-1 div.sk-estimator.fitted:hover {\n",
       "  /* fitted */\n",
       "  background-color: var(--sklearn-color-fitted-level-2);\n",
       "}\n",
       "\n",
       "/* Specification for estimator info (e.g. \"i\" and \"?\") */\n",
       "\n",
       "/* Common style for \"i\" and \"?\" */\n",
       "\n",
       ".sk-estimator-doc-link,\n",
       "a:link.sk-estimator-doc-link,\n",
       "a:visited.sk-estimator-doc-link {\n",
       "  float: right;\n",
       "  font-size: smaller;\n",
       "  line-height: 1em;\n",
       "  font-family: monospace;\n",
       "  background-color: var(--sklearn-color-background);\n",
       "  border-radius: 1em;\n",
       "  height: 1em;\n",
       "  width: 1em;\n",
       "  text-decoration: none !important;\n",
       "  margin-left: 1ex;\n",
       "  /* unfitted */\n",
       "  border: var(--sklearn-color-unfitted-level-1) 1pt solid;\n",
       "  color: var(--sklearn-color-unfitted-level-1);\n",
       "}\n",
       "\n",
       ".sk-estimator-doc-link.fitted,\n",
       "a:link.sk-estimator-doc-link.fitted,\n",
       "a:visited.sk-estimator-doc-link.fitted {\n",
       "  /* fitted */\n",
       "  border: var(--sklearn-color-fitted-level-1) 1pt solid;\n",
       "  color: var(--sklearn-color-fitted-level-1);\n",
       "}\n",
       "\n",
       "/* On hover */\n",
       "div.sk-estimator:hover .sk-estimator-doc-link:hover,\n",
       ".sk-estimator-doc-link:hover,\n",
       "div.sk-label-container:hover .sk-estimator-doc-link:hover,\n",
       ".sk-estimator-doc-link:hover {\n",
       "  /* unfitted */\n",
       "  background-color: var(--sklearn-color-unfitted-level-3);\n",
       "  color: var(--sklearn-color-background);\n",
       "  text-decoration: none;\n",
       "}\n",
       "\n",
       "div.sk-estimator.fitted:hover .sk-estimator-doc-link.fitted:hover,\n",
       ".sk-estimator-doc-link.fitted:hover,\n",
       "div.sk-label-container:hover .sk-estimator-doc-link.fitted:hover,\n",
       ".sk-estimator-doc-link.fitted:hover {\n",
       "  /* fitted */\n",
       "  background-color: var(--sklearn-color-fitted-level-3);\n",
       "  color: var(--sklearn-color-background);\n",
       "  text-decoration: none;\n",
       "}\n",
       "\n",
       "/* Span, style for the box shown on hovering the info icon */\n",
       ".sk-estimator-doc-link span {\n",
       "  display: none;\n",
       "  z-index: 9999;\n",
       "  position: relative;\n",
       "  font-weight: normal;\n",
       "  right: .2ex;\n",
       "  padding: .5ex;\n",
       "  margin: .5ex;\n",
       "  width: min-content;\n",
       "  min-width: 20ex;\n",
       "  max-width: 50ex;\n",
       "  color: var(--sklearn-color-text);\n",
       "  box-shadow: 2pt 2pt 4pt #999;\n",
       "  /* unfitted */\n",
       "  background: var(--sklearn-color-unfitted-level-0);\n",
       "  border: .5pt solid var(--sklearn-color-unfitted-level-3);\n",
       "}\n",
       "\n",
       ".sk-estimator-doc-link.fitted span {\n",
       "  /* fitted */\n",
       "  background: var(--sklearn-color-fitted-level-0);\n",
       "  border: var(--sklearn-color-fitted-level-3);\n",
       "}\n",
       "\n",
       ".sk-estimator-doc-link:hover span {\n",
       "  display: block;\n",
       "}\n",
       "\n",
       "/* \"?\"-specific style due to the `<a>` HTML tag */\n",
       "\n",
       "#sk-container-id-1 a.estimator_doc_link {\n",
       "  float: right;\n",
       "  font-size: 1rem;\n",
       "  line-height: 1em;\n",
       "  font-family: monospace;\n",
       "  background-color: var(--sklearn-color-background);\n",
       "  border-radius: 1rem;\n",
       "  height: 1rem;\n",
       "  width: 1rem;\n",
       "  text-decoration: none;\n",
       "  /* unfitted */\n",
       "  color: var(--sklearn-color-unfitted-level-1);\n",
       "  border: var(--sklearn-color-unfitted-level-1) 1pt solid;\n",
       "}\n",
       "\n",
       "#sk-container-id-1 a.estimator_doc_link.fitted {\n",
       "  /* fitted */\n",
       "  border: var(--sklearn-color-fitted-level-1) 1pt solid;\n",
       "  color: var(--sklearn-color-fitted-level-1);\n",
       "}\n",
       "\n",
       "/* On hover */\n",
       "#sk-container-id-1 a.estimator_doc_link:hover {\n",
       "  /* unfitted */\n",
       "  background-color: var(--sklearn-color-unfitted-level-3);\n",
       "  color: var(--sklearn-color-background);\n",
       "  text-decoration: none;\n",
       "}\n",
       "\n",
       "#sk-container-id-1 a.estimator_doc_link.fitted:hover {\n",
       "  /* fitted */\n",
       "  background-color: var(--sklearn-color-fitted-level-3);\n",
       "}\n",
       "</style><div id=\"sk-container-id-1\" class=\"sk-top-container\"><div class=\"sk-text-repr-fallback\"><pre>LinearRegression()</pre><b>In a Jupyter environment, please rerun this cell to show the HTML representation or trust the notebook. <br />On GitHub, the HTML representation is unable to render, please try loading this page with nbviewer.org.</b></div><div class=\"sk-container\" hidden><div class=\"sk-item\"><div class=\"sk-estimator fitted sk-toggleable\"><input class=\"sk-toggleable__control sk-hidden--visually\" id=\"sk-estimator-id-1\" type=\"checkbox\" checked><label for=\"sk-estimator-id-1\" class=\"sk-toggleable__label fitted sk-toggleable__label-arrow fitted\">&nbsp;&nbsp;LinearRegression<a class=\"sk-estimator-doc-link fitted\" rel=\"noreferrer\" target=\"_blank\" href=\"https://scikit-learn.org/1.4/modules/generated/sklearn.linear_model.LinearRegression.html\">?<span>Documentation for LinearRegression</span></a><span class=\"sk-estimator-doc-link fitted\">i<span>Fitted</span></span></label><div class=\"sk-toggleable__content fitted\"><pre>LinearRegression()</pre></div> </div></div></div></div>"
      ],
      "text/plain": [
       "LinearRegression()"
      ]
     },
     "execution_count": 102,
     "metadata": {},
     "output_type": "execute_result"
    }
   ],
   "source": [
    "from sklearn.linear_model import LinearRegression\n",
    "\n",
    "lin_reg = LinearRegression()\n",
    "lin_reg.fit(X_processed, y)"
   ]
  },
  {
   "cell_type": "markdown",
   "id": "656b3664-6267-42af-a49d-e6d66346d1a6",
   "metadata": {},
   "source": [
    "#### Random Forest Regression"
   ]
  },
  {
   "cell_type": "markdown",
   "id": "150b6068-dd88-4e34-8a90-992f8c44c027",
   "metadata": {},
   "source": [
    "__Random Forest__ is a non-parametric test that is ultra dynamic in that no apparent assumptions are needed, data does not have to be scaled, or encoded.The algorithm works by creating a multitude of decision trees and selecting the majority output amongst all decision trees (voting). Each Decision Tree divides samples into groups in a binary fashion based thresholds (a set value) within the features that provides optimal cost function (ie. mean squared error). "
   ]
  },
  {
   "cell_type": "code",
   "execution_count": 105,
   "id": "ee020697-7f9f-4b35-86de-59f8585749fa",
   "metadata": {},
   "outputs": [
    {
     "data": {
      "text/html": [
       "<style>#sk-container-id-2 {\n",
       "  /* Definition of color scheme common for light and dark mode */\n",
       "  --sklearn-color-text: black;\n",
       "  --sklearn-color-line: gray;\n",
       "  /* Definition of color scheme for unfitted estimators */\n",
       "  --sklearn-color-unfitted-level-0: #fff5e6;\n",
       "  --sklearn-color-unfitted-level-1: #f6e4d2;\n",
       "  --sklearn-color-unfitted-level-2: #ffe0b3;\n",
       "  --sklearn-color-unfitted-level-3: chocolate;\n",
       "  /* Definition of color scheme for fitted estimators */\n",
       "  --sklearn-color-fitted-level-0: #f0f8ff;\n",
       "  --sklearn-color-fitted-level-1: #d4ebff;\n",
       "  --sklearn-color-fitted-level-2: #b3dbfd;\n",
       "  --sklearn-color-fitted-level-3: cornflowerblue;\n",
       "\n",
       "  /* Specific color for light theme */\n",
       "  --sklearn-color-text-on-default-background: var(--sg-text-color, var(--theme-code-foreground, var(--jp-content-font-color1, black)));\n",
       "  --sklearn-color-background: var(--sg-background-color, var(--theme-background, var(--jp-layout-color0, white)));\n",
       "  --sklearn-color-border-box: var(--sg-text-color, var(--theme-code-foreground, var(--jp-content-font-color1, black)));\n",
       "  --sklearn-color-icon: #696969;\n",
       "\n",
       "  @media (prefers-color-scheme: dark) {\n",
       "    /* Redefinition of color scheme for dark theme */\n",
       "    --sklearn-color-text-on-default-background: var(--sg-text-color, var(--theme-code-foreground, var(--jp-content-font-color1, white)));\n",
       "    --sklearn-color-background: var(--sg-background-color, var(--theme-background, var(--jp-layout-color0, #111)));\n",
       "    --sklearn-color-border-box: var(--sg-text-color, var(--theme-code-foreground, var(--jp-content-font-color1, white)));\n",
       "    --sklearn-color-icon: #878787;\n",
       "  }\n",
       "}\n",
       "\n",
       "#sk-container-id-2 {\n",
       "  color: var(--sklearn-color-text);\n",
       "}\n",
       "\n",
       "#sk-container-id-2 pre {\n",
       "  padding: 0;\n",
       "}\n",
       "\n",
       "#sk-container-id-2 input.sk-hidden--visually {\n",
       "  border: 0;\n",
       "  clip: rect(1px 1px 1px 1px);\n",
       "  clip: rect(1px, 1px, 1px, 1px);\n",
       "  height: 1px;\n",
       "  margin: -1px;\n",
       "  overflow: hidden;\n",
       "  padding: 0;\n",
       "  position: absolute;\n",
       "  width: 1px;\n",
       "}\n",
       "\n",
       "#sk-container-id-2 div.sk-dashed-wrapped {\n",
       "  border: 1px dashed var(--sklearn-color-line);\n",
       "  margin: 0 0.4em 0.5em 0.4em;\n",
       "  box-sizing: border-box;\n",
       "  padding-bottom: 0.4em;\n",
       "  background-color: var(--sklearn-color-background);\n",
       "}\n",
       "\n",
       "#sk-container-id-2 div.sk-container {\n",
       "  /* jupyter's `normalize.less` sets `[hidden] { display: none; }`\n",
       "     but bootstrap.min.css set `[hidden] { display: none !important; }`\n",
       "     so we also need the `!important` here to be able to override the\n",
       "     default hidden behavior on the sphinx rendered scikit-learn.org.\n",
       "     See: https://github.com/scikit-learn/scikit-learn/issues/21755 */\n",
       "  display: inline-block !important;\n",
       "  position: relative;\n",
       "}\n",
       "\n",
       "#sk-container-id-2 div.sk-text-repr-fallback {\n",
       "  display: none;\n",
       "}\n",
       "\n",
       "div.sk-parallel-item,\n",
       "div.sk-serial,\n",
       "div.sk-item {\n",
       "  /* draw centered vertical line to link estimators */\n",
       "  background-image: linear-gradient(var(--sklearn-color-text-on-default-background), var(--sklearn-color-text-on-default-background));\n",
       "  background-size: 2px 100%;\n",
       "  background-repeat: no-repeat;\n",
       "  background-position: center center;\n",
       "}\n",
       "\n",
       "/* Parallel-specific style estimator block */\n",
       "\n",
       "#sk-container-id-2 div.sk-parallel-item::after {\n",
       "  content: \"\";\n",
       "  width: 100%;\n",
       "  border-bottom: 2px solid var(--sklearn-color-text-on-default-background);\n",
       "  flex-grow: 1;\n",
       "}\n",
       "\n",
       "#sk-container-id-2 div.sk-parallel {\n",
       "  display: flex;\n",
       "  align-items: stretch;\n",
       "  justify-content: center;\n",
       "  background-color: var(--sklearn-color-background);\n",
       "  position: relative;\n",
       "}\n",
       "\n",
       "#sk-container-id-2 div.sk-parallel-item {\n",
       "  display: flex;\n",
       "  flex-direction: column;\n",
       "}\n",
       "\n",
       "#sk-container-id-2 div.sk-parallel-item:first-child::after {\n",
       "  align-self: flex-end;\n",
       "  width: 50%;\n",
       "}\n",
       "\n",
       "#sk-container-id-2 div.sk-parallel-item:last-child::after {\n",
       "  align-self: flex-start;\n",
       "  width: 50%;\n",
       "}\n",
       "\n",
       "#sk-container-id-2 div.sk-parallel-item:only-child::after {\n",
       "  width: 0;\n",
       "}\n",
       "\n",
       "/* Serial-specific style estimator block */\n",
       "\n",
       "#sk-container-id-2 div.sk-serial {\n",
       "  display: flex;\n",
       "  flex-direction: column;\n",
       "  align-items: center;\n",
       "  background-color: var(--sklearn-color-background);\n",
       "  padding-right: 1em;\n",
       "  padding-left: 1em;\n",
       "}\n",
       "\n",
       "\n",
       "/* Toggleable style: style used for estimator/Pipeline/ColumnTransformer box that is\n",
       "clickable and can be expanded/collapsed.\n",
       "- Pipeline and ColumnTransformer use this feature and define the default style\n",
       "- Estimators will overwrite some part of the style using the `sk-estimator` class\n",
       "*/\n",
       "\n",
       "/* Pipeline and ColumnTransformer style (default) */\n",
       "\n",
       "#sk-container-id-2 div.sk-toggleable {\n",
       "  /* Default theme specific background. It is overwritten whether we have a\n",
       "  specific estimator or a Pipeline/ColumnTransformer */\n",
       "  background-color: var(--sklearn-color-background);\n",
       "}\n",
       "\n",
       "/* Toggleable label */\n",
       "#sk-container-id-2 label.sk-toggleable__label {\n",
       "  cursor: pointer;\n",
       "  display: block;\n",
       "  width: 100%;\n",
       "  margin-bottom: 0;\n",
       "  padding: 0.5em;\n",
       "  box-sizing: border-box;\n",
       "  text-align: center;\n",
       "}\n",
       "\n",
       "#sk-container-id-2 label.sk-toggleable__label-arrow:before {\n",
       "  /* Arrow on the left of the label */\n",
       "  content: \"▸\";\n",
       "  float: left;\n",
       "  margin-right: 0.25em;\n",
       "  color: var(--sklearn-color-icon);\n",
       "}\n",
       "\n",
       "#sk-container-id-2 label.sk-toggleable__label-arrow:hover:before {\n",
       "  color: var(--sklearn-color-text);\n",
       "}\n",
       "\n",
       "/* Toggleable content - dropdown */\n",
       "\n",
       "#sk-container-id-2 div.sk-toggleable__content {\n",
       "  max-height: 0;\n",
       "  max-width: 0;\n",
       "  overflow: hidden;\n",
       "  text-align: left;\n",
       "  /* unfitted */\n",
       "  background-color: var(--sklearn-color-unfitted-level-0);\n",
       "}\n",
       "\n",
       "#sk-container-id-2 div.sk-toggleable__content.fitted {\n",
       "  /* fitted */\n",
       "  background-color: var(--sklearn-color-fitted-level-0);\n",
       "}\n",
       "\n",
       "#sk-container-id-2 div.sk-toggleable__content pre {\n",
       "  margin: 0.2em;\n",
       "  border-radius: 0.25em;\n",
       "  color: var(--sklearn-color-text);\n",
       "  /* unfitted */\n",
       "  background-color: var(--sklearn-color-unfitted-level-0);\n",
       "}\n",
       "\n",
       "#sk-container-id-2 div.sk-toggleable__content.fitted pre {\n",
       "  /* unfitted */\n",
       "  background-color: var(--sklearn-color-fitted-level-0);\n",
       "}\n",
       "\n",
       "#sk-container-id-2 input.sk-toggleable__control:checked~div.sk-toggleable__content {\n",
       "  /* Expand drop-down */\n",
       "  max-height: 200px;\n",
       "  max-width: 100%;\n",
       "  overflow: auto;\n",
       "}\n",
       "\n",
       "#sk-container-id-2 input.sk-toggleable__control:checked~label.sk-toggleable__label-arrow:before {\n",
       "  content: \"▾\";\n",
       "}\n",
       "\n",
       "/* Pipeline/ColumnTransformer-specific style */\n",
       "\n",
       "#sk-container-id-2 div.sk-label input.sk-toggleable__control:checked~label.sk-toggleable__label {\n",
       "  color: var(--sklearn-color-text);\n",
       "  background-color: var(--sklearn-color-unfitted-level-2);\n",
       "}\n",
       "\n",
       "#sk-container-id-2 div.sk-label.fitted input.sk-toggleable__control:checked~label.sk-toggleable__label {\n",
       "  background-color: var(--sklearn-color-fitted-level-2);\n",
       "}\n",
       "\n",
       "/* Estimator-specific style */\n",
       "\n",
       "/* Colorize estimator box */\n",
       "#sk-container-id-2 div.sk-estimator input.sk-toggleable__control:checked~label.sk-toggleable__label {\n",
       "  /* unfitted */\n",
       "  background-color: var(--sklearn-color-unfitted-level-2);\n",
       "}\n",
       "\n",
       "#sk-container-id-2 div.sk-estimator.fitted input.sk-toggleable__control:checked~label.sk-toggleable__label {\n",
       "  /* fitted */\n",
       "  background-color: var(--sklearn-color-fitted-level-2);\n",
       "}\n",
       "\n",
       "#sk-container-id-2 div.sk-label label.sk-toggleable__label,\n",
       "#sk-container-id-2 div.sk-label label {\n",
       "  /* The background is the default theme color */\n",
       "  color: var(--sklearn-color-text-on-default-background);\n",
       "}\n",
       "\n",
       "/* On hover, darken the color of the background */\n",
       "#sk-container-id-2 div.sk-label:hover label.sk-toggleable__label {\n",
       "  color: var(--sklearn-color-text);\n",
       "  background-color: var(--sklearn-color-unfitted-level-2);\n",
       "}\n",
       "\n",
       "/* Label box, darken color on hover, fitted */\n",
       "#sk-container-id-2 div.sk-label.fitted:hover label.sk-toggleable__label.fitted {\n",
       "  color: var(--sklearn-color-text);\n",
       "  background-color: var(--sklearn-color-fitted-level-2);\n",
       "}\n",
       "\n",
       "/* Estimator label */\n",
       "\n",
       "#sk-container-id-2 div.sk-label label {\n",
       "  font-family: monospace;\n",
       "  font-weight: bold;\n",
       "  display: inline-block;\n",
       "  line-height: 1.2em;\n",
       "}\n",
       "\n",
       "#sk-container-id-2 div.sk-label-container {\n",
       "  text-align: center;\n",
       "}\n",
       "\n",
       "/* Estimator-specific */\n",
       "#sk-container-id-2 div.sk-estimator {\n",
       "  font-family: monospace;\n",
       "  border: 1px dotted var(--sklearn-color-border-box);\n",
       "  border-radius: 0.25em;\n",
       "  box-sizing: border-box;\n",
       "  margin-bottom: 0.5em;\n",
       "  /* unfitted */\n",
       "  background-color: var(--sklearn-color-unfitted-level-0);\n",
       "}\n",
       "\n",
       "#sk-container-id-2 div.sk-estimator.fitted {\n",
       "  /* fitted */\n",
       "  background-color: var(--sklearn-color-fitted-level-0);\n",
       "}\n",
       "\n",
       "/* on hover */\n",
       "#sk-container-id-2 div.sk-estimator:hover {\n",
       "  /* unfitted */\n",
       "  background-color: var(--sklearn-color-unfitted-level-2);\n",
       "}\n",
       "\n",
       "#sk-container-id-2 div.sk-estimator.fitted:hover {\n",
       "  /* fitted */\n",
       "  background-color: var(--sklearn-color-fitted-level-2);\n",
       "}\n",
       "\n",
       "/* Specification for estimator info (e.g. \"i\" and \"?\") */\n",
       "\n",
       "/* Common style for \"i\" and \"?\" */\n",
       "\n",
       ".sk-estimator-doc-link,\n",
       "a:link.sk-estimator-doc-link,\n",
       "a:visited.sk-estimator-doc-link {\n",
       "  float: right;\n",
       "  font-size: smaller;\n",
       "  line-height: 1em;\n",
       "  font-family: monospace;\n",
       "  background-color: var(--sklearn-color-background);\n",
       "  border-radius: 1em;\n",
       "  height: 1em;\n",
       "  width: 1em;\n",
       "  text-decoration: none !important;\n",
       "  margin-left: 1ex;\n",
       "  /* unfitted */\n",
       "  border: var(--sklearn-color-unfitted-level-1) 1pt solid;\n",
       "  color: var(--sklearn-color-unfitted-level-1);\n",
       "}\n",
       "\n",
       ".sk-estimator-doc-link.fitted,\n",
       "a:link.sk-estimator-doc-link.fitted,\n",
       "a:visited.sk-estimator-doc-link.fitted {\n",
       "  /* fitted */\n",
       "  border: var(--sklearn-color-fitted-level-1) 1pt solid;\n",
       "  color: var(--sklearn-color-fitted-level-1);\n",
       "}\n",
       "\n",
       "/* On hover */\n",
       "div.sk-estimator:hover .sk-estimator-doc-link:hover,\n",
       ".sk-estimator-doc-link:hover,\n",
       "div.sk-label-container:hover .sk-estimator-doc-link:hover,\n",
       ".sk-estimator-doc-link:hover {\n",
       "  /* unfitted */\n",
       "  background-color: var(--sklearn-color-unfitted-level-3);\n",
       "  color: var(--sklearn-color-background);\n",
       "  text-decoration: none;\n",
       "}\n",
       "\n",
       "div.sk-estimator.fitted:hover .sk-estimator-doc-link.fitted:hover,\n",
       ".sk-estimator-doc-link.fitted:hover,\n",
       "div.sk-label-container:hover .sk-estimator-doc-link.fitted:hover,\n",
       ".sk-estimator-doc-link.fitted:hover {\n",
       "  /* fitted */\n",
       "  background-color: var(--sklearn-color-fitted-level-3);\n",
       "  color: var(--sklearn-color-background);\n",
       "  text-decoration: none;\n",
       "}\n",
       "\n",
       "/* Span, style for the box shown on hovering the info icon */\n",
       ".sk-estimator-doc-link span {\n",
       "  display: none;\n",
       "  z-index: 9999;\n",
       "  position: relative;\n",
       "  font-weight: normal;\n",
       "  right: .2ex;\n",
       "  padding: .5ex;\n",
       "  margin: .5ex;\n",
       "  width: min-content;\n",
       "  min-width: 20ex;\n",
       "  max-width: 50ex;\n",
       "  color: var(--sklearn-color-text);\n",
       "  box-shadow: 2pt 2pt 4pt #999;\n",
       "  /* unfitted */\n",
       "  background: var(--sklearn-color-unfitted-level-0);\n",
       "  border: .5pt solid var(--sklearn-color-unfitted-level-3);\n",
       "}\n",
       "\n",
       ".sk-estimator-doc-link.fitted span {\n",
       "  /* fitted */\n",
       "  background: var(--sklearn-color-fitted-level-0);\n",
       "  border: var(--sklearn-color-fitted-level-3);\n",
       "}\n",
       "\n",
       ".sk-estimator-doc-link:hover span {\n",
       "  display: block;\n",
       "}\n",
       "\n",
       "/* \"?\"-specific style due to the `<a>` HTML tag */\n",
       "\n",
       "#sk-container-id-2 a.estimator_doc_link {\n",
       "  float: right;\n",
       "  font-size: 1rem;\n",
       "  line-height: 1em;\n",
       "  font-family: monospace;\n",
       "  background-color: var(--sklearn-color-background);\n",
       "  border-radius: 1rem;\n",
       "  height: 1rem;\n",
       "  width: 1rem;\n",
       "  text-decoration: none;\n",
       "  /* unfitted */\n",
       "  color: var(--sklearn-color-unfitted-level-1);\n",
       "  border: var(--sklearn-color-unfitted-level-1) 1pt solid;\n",
       "}\n",
       "\n",
       "#sk-container-id-2 a.estimator_doc_link.fitted {\n",
       "  /* fitted */\n",
       "  border: var(--sklearn-color-fitted-level-1) 1pt solid;\n",
       "  color: var(--sklearn-color-fitted-level-1);\n",
       "}\n",
       "\n",
       "/* On hover */\n",
       "#sk-container-id-2 a.estimator_doc_link:hover {\n",
       "  /* unfitted */\n",
       "  background-color: var(--sklearn-color-unfitted-level-3);\n",
       "  color: var(--sklearn-color-background);\n",
       "  text-decoration: none;\n",
       "}\n",
       "\n",
       "#sk-container-id-2 a.estimator_doc_link.fitted:hover {\n",
       "  /* fitted */\n",
       "  background-color: var(--sklearn-color-fitted-level-3);\n",
       "}\n",
       "</style><div id=\"sk-container-id-2\" class=\"sk-top-container\"><div class=\"sk-text-repr-fallback\"><pre>RandomForestRegressor(random_state=42)</pre><b>In a Jupyter environment, please rerun this cell to show the HTML representation or trust the notebook. <br />On GitHub, the HTML representation is unable to render, please try loading this page with nbviewer.org.</b></div><div class=\"sk-container\" hidden><div class=\"sk-item\"><div class=\"sk-estimator fitted sk-toggleable\"><input class=\"sk-toggleable__control sk-hidden--visually\" id=\"sk-estimator-id-2\" type=\"checkbox\" checked><label for=\"sk-estimator-id-2\" class=\"sk-toggleable__label fitted sk-toggleable__label-arrow fitted\">&nbsp;&nbsp;RandomForestRegressor<a class=\"sk-estimator-doc-link fitted\" rel=\"noreferrer\" target=\"_blank\" href=\"https://scikit-learn.org/1.4/modules/generated/sklearn.ensemble.RandomForestRegressor.html\">?<span>Documentation for RandomForestRegressor</span></a><span class=\"sk-estimator-doc-link fitted\">i<span>Fitted</span></span></label><div class=\"sk-toggleable__content fitted\"><pre>RandomForestRegressor(random_state=42)</pre></div> </div></div></div></div>"
      ],
      "text/plain": [
       "RandomForestRegressor(random_state=42)"
      ]
     },
     "execution_count": 105,
     "metadata": {},
     "output_type": "execute_result"
    }
   ],
   "source": [
    "from sklearn.ensemble import RandomForestRegressor\n",
    "\n",
    "forest_reg = RandomForestRegressor(random_state=42)\n",
    "forest_reg.fit(X, y)"
   ]
  },
  {
   "cell_type": "markdown",
   "id": "4ead51a2-a298-4ca7-994a-f67b40afa2ca",
   "metadata": {},
   "source": [
    "Add description..."
   ]
  },
  {
   "cell_type": "markdown",
   "id": "1fdfaf4f-ac6f-4d98-9d71-5dd274f287db",
   "metadata": {},
   "source": [
    "#### Support Vector Machines - Regression"
   ]
  },
  {
   "cell_type": "markdown",
   "id": "1991bf88-de8a-4eda-a1f4-57c1b1c22f3f",
   "metadata": {},
   "source": [
    "__Support Vector Machines__ work by creating measuring distances from boundaries between instances in the data. Ideally using the crude diagram below (I am not an artist), the slack should be optimally reduced , but with the tradeoff of providing the smallest distance for Epsilon. The idea is that a 'tighter' epsilon will provide a more precise model; however, by also considering slack we essentially allow for more generalizability for real-world data that may not fit so tightly as the training data does within epsilon. "
   ]
  },
  {
   "cell_type": "markdown",
   "id": "3afb2b4b-8825-4cc8-8214-4f88fd0c7e7b",
   "metadata": {},
   "source": [
    "![title](img/svr.png)"
   ]
  },
  {
   "cell_type": "code",
   "execution_count": 110,
   "id": "b0047f24-2c42-44f4-9d66-54b6f6e841ca",
   "metadata": {
    "scrolled": true
   },
   "outputs": [
    {
     "name": "stderr",
     "output_type": "stream",
     "text": [
      "D:\\CONDA\\Lib\\site-packages\\sklearn\\svm\\_classes.py:31: FutureWarning: The default value of `dual` will change from `True` to `'auto'` in 1.5. Set the value of `dual` explicitly to suppress the warning.\n",
      "  warnings.warn(\n"
     ]
    },
    {
     "data": {
      "text/html": [
       "<style>#sk-container-id-3 {\n",
       "  /* Definition of color scheme common for light and dark mode */\n",
       "  --sklearn-color-text: black;\n",
       "  --sklearn-color-line: gray;\n",
       "  /* Definition of color scheme for unfitted estimators */\n",
       "  --sklearn-color-unfitted-level-0: #fff5e6;\n",
       "  --sklearn-color-unfitted-level-1: #f6e4d2;\n",
       "  --sklearn-color-unfitted-level-2: #ffe0b3;\n",
       "  --sklearn-color-unfitted-level-3: chocolate;\n",
       "  /* Definition of color scheme for fitted estimators */\n",
       "  --sklearn-color-fitted-level-0: #f0f8ff;\n",
       "  --sklearn-color-fitted-level-1: #d4ebff;\n",
       "  --sklearn-color-fitted-level-2: #b3dbfd;\n",
       "  --sklearn-color-fitted-level-3: cornflowerblue;\n",
       "\n",
       "  /* Specific color for light theme */\n",
       "  --sklearn-color-text-on-default-background: var(--sg-text-color, var(--theme-code-foreground, var(--jp-content-font-color1, black)));\n",
       "  --sklearn-color-background: var(--sg-background-color, var(--theme-background, var(--jp-layout-color0, white)));\n",
       "  --sklearn-color-border-box: var(--sg-text-color, var(--theme-code-foreground, var(--jp-content-font-color1, black)));\n",
       "  --sklearn-color-icon: #696969;\n",
       "\n",
       "  @media (prefers-color-scheme: dark) {\n",
       "    /* Redefinition of color scheme for dark theme */\n",
       "    --sklearn-color-text-on-default-background: var(--sg-text-color, var(--theme-code-foreground, var(--jp-content-font-color1, white)));\n",
       "    --sklearn-color-background: var(--sg-background-color, var(--theme-background, var(--jp-layout-color0, #111)));\n",
       "    --sklearn-color-border-box: var(--sg-text-color, var(--theme-code-foreground, var(--jp-content-font-color1, white)));\n",
       "    --sklearn-color-icon: #878787;\n",
       "  }\n",
       "}\n",
       "\n",
       "#sk-container-id-3 {\n",
       "  color: var(--sklearn-color-text);\n",
       "}\n",
       "\n",
       "#sk-container-id-3 pre {\n",
       "  padding: 0;\n",
       "}\n",
       "\n",
       "#sk-container-id-3 input.sk-hidden--visually {\n",
       "  border: 0;\n",
       "  clip: rect(1px 1px 1px 1px);\n",
       "  clip: rect(1px, 1px, 1px, 1px);\n",
       "  height: 1px;\n",
       "  margin: -1px;\n",
       "  overflow: hidden;\n",
       "  padding: 0;\n",
       "  position: absolute;\n",
       "  width: 1px;\n",
       "}\n",
       "\n",
       "#sk-container-id-3 div.sk-dashed-wrapped {\n",
       "  border: 1px dashed var(--sklearn-color-line);\n",
       "  margin: 0 0.4em 0.5em 0.4em;\n",
       "  box-sizing: border-box;\n",
       "  padding-bottom: 0.4em;\n",
       "  background-color: var(--sklearn-color-background);\n",
       "}\n",
       "\n",
       "#sk-container-id-3 div.sk-container {\n",
       "  /* jupyter's `normalize.less` sets `[hidden] { display: none; }`\n",
       "     but bootstrap.min.css set `[hidden] { display: none !important; }`\n",
       "     so we also need the `!important` here to be able to override the\n",
       "     default hidden behavior on the sphinx rendered scikit-learn.org.\n",
       "     See: https://github.com/scikit-learn/scikit-learn/issues/21755 */\n",
       "  display: inline-block !important;\n",
       "  position: relative;\n",
       "}\n",
       "\n",
       "#sk-container-id-3 div.sk-text-repr-fallback {\n",
       "  display: none;\n",
       "}\n",
       "\n",
       "div.sk-parallel-item,\n",
       "div.sk-serial,\n",
       "div.sk-item {\n",
       "  /* draw centered vertical line to link estimators */\n",
       "  background-image: linear-gradient(var(--sklearn-color-text-on-default-background), var(--sklearn-color-text-on-default-background));\n",
       "  background-size: 2px 100%;\n",
       "  background-repeat: no-repeat;\n",
       "  background-position: center center;\n",
       "}\n",
       "\n",
       "/* Parallel-specific style estimator block */\n",
       "\n",
       "#sk-container-id-3 div.sk-parallel-item::after {\n",
       "  content: \"\";\n",
       "  width: 100%;\n",
       "  border-bottom: 2px solid var(--sklearn-color-text-on-default-background);\n",
       "  flex-grow: 1;\n",
       "}\n",
       "\n",
       "#sk-container-id-3 div.sk-parallel {\n",
       "  display: flex;\n",
       "  align-items: stretch;\n",
       "  justify-content: center;\n",
       "  background-color: var(--sklearn-color-background);\n",
       "  position: relative;\n",
       "}\n",
       "\n",
       "#sk-container-id-3 div.sk-parallel-item {\n",
       "  display: flex;\n",
       "  flex-direction: column;\n",
       "}\n",
       "\n",
       "#sk-container-id-3 div.sk-parallel-item:first-child::after {\n",
       "  align-self: flex-end;\n",
       "  width: 50%;\n",
       "}\n",
       "\n",
       "#sk-container-id-3 div.sk-parallel-item:last-child::after {\n",
       "  align-self: flex-start;\n",
       "  width: 50%;\n",
       "}\n",
       "\n",
       "#sk-container-id-3 div.sk-parallel-item:only-child::after {\n",
       "  width: 0;\n",
       "}\n",
       "\n",
       "/* Serial-specific style estimator block */\n",
       "\n",
       "#sk-container-id-3 div.sk-serial {\n",
       "  display: flex;\n",
       "  flex-direction: column;\n",
       "  align-items: center;\n",
       "  background-color: var(--sklearn-color-background);\n",
       "  padding-right: 1em;\n",
       "  padding-left: 1em;\n",
       "}\n",
       "\n",
       "\n",
       "/* Toggleable style: style used for estimator/Pipeline/ColumnTransformer box that is\n",
       "clickable and can be expanded/collapsed.\n",
       "- Pipeline and ColumnTransformer use this feature and define the default style\n",
       "- Estimators will overwrite some part of the style using the `sk-estimator` class\n",
       "*/\n",
       "\n",
       "/* Pipeline and ColumnTransformer style (default) */\n",
       "\n",
       "#sk-container-id-3 div.sk-toggleable {\n",
       "  /* Default theme specific background. It is overwritten whether we have a\n",
       "  specific estimator or a Pipeline/ColumnTransformer */\n",
       "  background-color: var(--sklearn-color-background);\n",
       "}\n",
       "\n",
       "/* Toggleable label */\n",
       "#sk-container-id-3 label.sk-toggleable__label {\n",
       "  cursor: pointer;\n",
       "  display: block;\n",
       "  width: 100%;\n",
       "  margin-bottom: 0;\n",
       "  padding: 0.5em;\n",
       "  box-sizing: border-box;\n",
       "  text-align: center;\n",
       "}\n",
       "\n",
       "#sk-container-id-3 label.sk-toggleable__label-arrow:before {\n",
       "  /* Arrow on the left of the label */\n",
       "  content: \"▸\";\n",
       "  float: left;\n",
       "  margin-right: 0.25em;\n",
       "  color: var(--sklearn-color-icon);\n",
       "}\n",
       "\n",
       "#sk-container-id-3 label.sk-toggleable__label-arrow:hover:before {\n",
       "  color: var(--sklearn-color-text);\n",
       "}\n",
       "\n",
       "/* Toggleable content - dropdown */\n",
       "\n",
       "#sk-container-id-3 div.sk-toggleable__content {\n",
       "  max-height: 0;\n",
       "  max-width: 0;\n",
       "  overflow: hidden;\n",
       "  text-align: left;\n",
       "  /* unfitted */\n",
       "  background-color: var(--sklearn-color-unfitted-level-0);\n",
       "}\n",
       "\n",
       "#sk-container-id-3 div.sk-toggleable__content.fitted {\n",
       "  /* fitted */\n",
       "  background-color: var(--sklearn-color-fitted-level-0);\n",
       "}\n",
       "\n",
       "#sk-container-id-3 div.sk-toggleable__content pre {\n",
       "  margin: 0.2em;\n",
       "  border-radius: 0.25em;\n",
       "  color: var(--sklearn-color-text);\n",
       "  /* unfitted */\n",
       "  background-color: var(--sklearn-color-unfitted-level-0);\n",
       "}\n",
       "\n",
       "#sk-container-id-3 div.sk-toggleable__content.fitted pre {\n",
       "  /* unfitted */\n",
       "  background-color: var(--sklearn-color-fitted-level-0);\n",
       "}\n",
       "\n",
       "#sk-container-id-3 input.sk-toggleable__control:checked~div.sk-toggleable__content {\n",
       "  /* Expand drop-down */\n",
       "  max-height: 200px;\n",
       "  max-width: 100%;\n",
       "  overflow: auto;\n",
       "}\n",
       "\n",
       "#sk-container-id-3 input.sk-toggleable__control:checked~label.sk-toggleable__label-arrow:before {\n",
       "  content: \"▾\";\n",
       "}\n",
       "\n",
       "/* Pipeline/ColumnTransformer-specific style */\n",
       "\n",
       "#sk-container-id-3 div.sk-label input.sk-toggleable__control:checked~label.sk-toggleable__label {\n",
       "  color: var(--sklearn-color-text);\n",
       "  background-color: var(--sklearn-color-unfitted-level-2);\n",
       "}\n",
       "\n",
       "#sk-container-id-3 div.sk-label.fitted input.sk-toggleable__control:checked~label.sk-toggleable__label {\n",
       "  background-color: var(--sklearn-color-fitted-level-2);\n",
       "}\n",
       "\n",
       "/* Estimator-specific style */\n",
       "\n",
       "/* Colorize estimator box */\n",
       "#sk-container-id-3 div.sk-estimator input.sk-toggleable__control:checked~label.sk-toggleable__label {\n",
       "  /* unfitted */\n",
       "  background-color: var(--sklearn-color-unfitted-level-2);\n",
       "}\n",
       "\n",
       "#sk-container-id-3 div.sk-estimator.fitted input.sk-toggleable__control:checked~label.sk-toggleable__label {\n",
       "  /* fitted */\n",
       "  background-color: var(--sklearn-color-fitted-level-2);\n",
       "}\n",
       "\n",
       "#sk-container-id-3 div.sk-label label.sk-toggleable__label,\n",
       "#sk-container-id-3 div.sk-label label {\n",
       "  /* The background is the default theme color */\n",
       "  color: var(--sklearn-color-text-on-default-background);\n",
       "}\n",
       "\n",
       "/* On hover, darken the color of the background */\n",
       "#sk-container-id-3 div.sk-label:hover label.sk-toggleable__label {\n",
       "  color: var(--sklearn-color-text);\n",
       "  background-color: var(--sklearn-color-unfitted-level-2);\n",
       "}\n",
       "\n",
       "/* Label box, darken color on hover, fitted */\n",
       "#sk-container-id-3 div.sk-label.fitted:hover label.sk-toggleable__label.fitted {\n",
       "  color: var(--sklearn-color-text);\n",
       "  background-color: var(--sklearn-color-fitted-level-2);\n",
       "}\n",
       "\n",
       "/* Estimator label */\n",
       "\n",
       "#sk-container-id-3 div.sk-label label {\n",
       "  font-family: monospace;\n",
       "  font-weight: bold;\n",
       "  display: inline-block;\n",
       "  line-height: 1.2em;\n",
       "}\n",
       "\n",
       "#sk-container-id-3 div.sk-label-container {\n",
       "  text-align: center;\n",
       "}\n",
       "\n",
       "/* Estimator-specific */\n",
       "#sk-container-id-3 div.sk-estimator {\n",
       "  font-family: monospace;\n",
       "  border: 1px dotted var(--sklearn-color-border-box);\n",
       "  border-radius: 0.25em;\n",
       "  box-sizing: border-box;\n",
       "  margin-bottom: 0.5em;\n",
       "  /* unfitted */\n",
       "  background-color: var(--sklearn-color-unfitted-level-0);\n",
       "}\n",
       "\n",
       "#sk-container-id-3 div.sk-estimator.fitted {\n",
       "  /* fitted */\n",
       "  background-color: var(--sklearn-color-fitted-level-0);\n",
       "}\n",
       "\n",
       "/* on hover */\n",
       "#sk-container-id-3 div.sk-estimator:hover {\n",
       "  /* unfitted */\n",
       "  background-color: var(--sklearn-color-unfitted-level-2);\n",
       "}\n",
       "\n",
       "#sk-container-id-3 div.sk-estimator.fitted:hover {\n",
       "  /* fitted */\n",
       "  background-color: var(--sklearn-color-fitted-level-2);\n",
       "}\n",
       "\n",
       "/* Specification for estimator info (e.g. \"i\" and \"?\") */\n",
       "\n",
       "/* Common style for \"i\" and \"?\" */\n",
       "\n",
       ".sk-estimator-doc-link,\n",
       "a:link.sk-estimator-doc-link,\n",
       "a:visited.sk-estimator-doc-link {\n",
       "  float: right;\n",
       "  font-size: smaller;\n",
       "  line-height: 1em;\n",
       "  font-family: monospace;\n",
       "  background-color: var(--sklearn-color-background);\n",
       "  border-radius: 1em;\n",
       "  height: 1em;\n",
       "  width: 1em;\n",
       "  text-decoration: none !important;\n",
       "  margin-left: 1ex;\n",
       "  /* unfitted */\n",
       "  border: var(--sklearn-color-unfitted-level-1) 1pt solid;\n",
       "  color: var(--sklearn-color-unfitted-level-1);\n",
       "}\n",
       "\n",
       ".sk-estimator-doc-link.fitted,\n",
       "a:link.sk-estimator-doc-link.fitted,\n",
       "a:visited.sk-estimator-doc-link.fitted {\n",
       "  /* fitted */\n",
       "  border: var(--sklearn-color-fitted-level-1) 1pt solid;\n",
       "  color: var(--sklearn-color-fitted-level-1);\n",
       "}\n",
       "\n",
       "/* On hover */\n",
       "div.sk-estimator:hover .sk-estimator-doc-link:hover,\n",
       ".sk-estimator-doc-link:hover,\n",
       "div.sk-label-container:hover .sk-estimator-doc-link:hover,\n",
       ".sk-estimator-doc-link:hover {\n",
       "  /* unfitted */\n",
       "  background-color: var(--sklearn-color-unfitted-level-3);\n",
       "  color: var(--sklearn-color-background);\n",
       "  text-decoration: none;\n",
       "}\n",
       "\n",
       "div.sk-estimator.fitted:hover .sk-estimator-doc-link.fitted:hover,\n",
       ".sk-estimator-doc-link.fitted:hover,\n",
       "div.sk-label-container:hover .sk-estimator-doc-link.fitted:hover,\n",
       ".sk-estimator-doc-link.fitted:hover {\n",
       "  /* fitted */\n",
       "  background-color: var(--sklearn-color-fitted-level-3);\n",
       "  color: var(--sklearn-color-background);\n",
       "  text-decoration: none;\n",
       "}\n",
       "\n",
       "/* Span, style for the box shown on hovering the info icon */\n",
       ".sk-estimator-doc-link span {\n",
       "  display: none;\n",
       "  z-index: 9999;\n",
       "  position: relative;\n",
       "  font-weight: normal;\n",
       "  right: .2ex;\n",
       "  padding: .5ex;\n",
       "  margin: .5ex;\n",
       "  width: min-content;\n",
       "  min-width: 20ex;\n",
       "  max-width: 50ex;\n",
       "  color: var(--sklearn-color-text);\n",
       "  box-shadow: 2pt 2pt 4pt #999;\n",
       "  /* unfitted */\n",
       "  background: var(--sklearn-color-unfitted-level-0);\n",
       "  border: .5pt solid var(--sklearn-color-unfitted-level-3);\n",
       "}\n",
       "\n",
       ".sk-estimator-doc-link.fitted span {\n",
       "  /* fitted */\n",
       "  background: var(--sklearn-color-fitted-level-0);\n",
       "  border: var(--sklearn-color-fitted-level-3);\n",
       "}\n",
       "\n",
       ".sk-estimator-doc-link:hover span {\n",
       "  display: block;\n",
       "}\n",
       "\n",
       "/* \"?\"-specific style due to the `<a>` HTML tag */\n",
       "\n",
       "#sk-container-id-3 a.estimator_doc_link {\n",
       "  float: right;\n",
       "  font-size: 1rem;\n",
       "  line-height: 1em;\n",
       "  font-family: monospace;\n",
       "  background-color: var(--sklearn-color-background);\n",
       "  border-radius: 1rem;\n",
       "  height: 1rem;\n",
       "  width: 1rem;\n",
       "  text-decoration: none;\n",
       "  /* unfitted */\n",
       "  color: var(--sklearn-color-unfitted-level-1);\n",
       "  border: var(--sklearn-color-unfitted-level-1) 1pt solid;\n",
       "}\n",
       "\n",
       "#sk-container-id-3 a.estimator_doc_link.fitted {\n",
       "  /* fitted */\n",
       "  border: var(--sklearn-color-fitted-level-1) 1pt solid;\n",
       "  color: var(--sklearn-color-fitted-level-1);\n",
       "}\n",
       "\n",
       "/* On hover */\n",
       "#sk-container-id-3 a.estimator_doc_link:hover {\n",
       "  /* unfitted */\n",
       "  background-color: var(--sklearn-color-unfitted-level-3);\n",
       "  color: var(--sklearn-color-background);\n",
       "  text-decoration: none;\n",
       "}\n",
       "\n",
       "#sk-container-id-3 a.estimator_doc_link.fitted:hover {\n",
       "  /* fitted */\n",
       "  background-color: var(--sklearn-color-fitted-level-3);\n",
       "}\n",
       "</style><div id=\"sk-container-id-3\" class=\"sk-top-container\"><div class=\"sk-text-repr-fallback\"><pre>LinearSVR()</pre><b>In a Jupyter environment, please rerun this cell to show the HTML representation or trust the notebook. <br />On GitHub, the HTML representation is unable to render, please try loading this page with nbviewer.org.</b></div><div class=\"sk-container\" hidden><div class=\"sk-item\"><div class=\"sk-estimator fitted sk-toggleable\"><input class=\"sk-toggleable__control sk-hidden--visually\" id=\"sk-estimator-id-3\" type=\"checkbox\" checked><label for=\"sk-estimator-id-3\" class=\"sk-toggleable__label fitted sk-toggleable__label-arrow fitted\">&nbsp;&nbsp;LinearSVR<a class=\"sk-estimator-doc-link fitted\" rel=\"noreferrer\" target=\"_blank\" href=\"https://scikit-learn.org/1.4/modules/generated/sklearn.svm.LinearSVR.html\">?<span>Documentation for LinearSVR</span></a><span class=\"sk-estimator-doc-link fitted\">i<span>Fitted</span></span></label><div class=\"sk-toggleable__content fitted\"><pre>LinearSVR()</pre></div> </div></div></div></div>"
      ],
      "text/plain": [
       "LinearSVR()"
      ]
     },
     "execution_count": 110,
     "metadata": {},
     "output_type": "execute_result"
    }
   ],
   "source": [
    "from sklearn.svm import LinearSVR\n",
    "\n",
    "svm_reg = LinearSVR()\n",
    "svm_reg.fit(X_processed, y)"
   ]
  },
  {
   "cell_type": "markdown",
   "id": "cc5ac668-84d0-41ac-95a7-2ddadb1cbb2c",
   "metadata": {},
   "source": [
    "## 5. Model Validation"
   ]
  },
  {
   "cell_type": "markdown",
   "id": "61104831-3478-4573-89ac-b575891a937d",
   "metadata": {},
   "source": [
    "`Sklearn` provides a robust method to test error in each model by allowing multiple randomize subsets of data to be compared in the error functions (mean squared error). Note, `Sklearn` by default using negative scoring for all of its scoring formula; hence, why you will see the \"negative mean squared error\" below. This may simply be multiplied by -1.  A list of all `Sklearn` cost functions is provided below:\n",
    "<br><Br>\n",
    "https://scikit-learn.org/stable/modules/model_evaluation.html#mean-squared-error"
   ]
  },
  {
   "cell_type": "markdown",
   "id": "53845959-d3a0-4365-b79f-8014d1c49b8e",
   "metadata": {},
   "source": [
    "#### Linear Regression"
   ]
  },
  {
   "cell_type": "markdown",
   "id": "fd649246-35f1-4001-8877-820c768ca552",
   "metadata": {},
   "source": [
    "https://scikit-learn.org/stable/modules/generated/sklearn.linear_model.LinearRegression.html"
   ]
  },
  {
   "cell_type": "code",
   "execution_count": 115,
   "id": "4140dca2-26f7-43e9-9a41-43f596b134a7",
   "metadata": {},
   "outputs": [
    {
     "name": "stdout",
     "output_type": "stream",
     "text": [
      "10 cross-validation scores:  [4.55750566 4.45456418 4.63652852 4.55534412 4.44654548 4.58699079\n",
      " 4.4875319  4.62345726 4.47317287 4.79414826]  \n",
      "Average Score:  4.561578904387079\n"
     ]
    }
   ],
   "source": [
    "from sklearn.model_selection import cross_val_score\n",
    "\n",
    "scores = cross_val_score(lin_reg, X_processed, y,\n",
    "                         scoring=\"neg_mean_squared_error\", cv=10)\n",
    "print(\"10 cross-validation scores: \", -scores, \" \\nAverage Score: \",-scores.mean())"
   ]
  },
  {
   "cell_type": "markdown",
   "id": "72e63c9c-aae2-4b02-b213-4a90c24806ad",
   "metadata": {},
   "source": [
    "#### Random Forest Regression"
   ]
  },
  {
   "cell_type": "markdown",
   "id": "45783393-00d0-44de-a14b-77c0a55f8e50",
   "metadata": {},
   "source": [
    "https://scikit-learn.org/stable/modules/generated/sklearn.ensemble.RandomForestRegressor.html#sklearn.ensemble.RandomForestRegressor"
   ]
  },
  {
   "cell_type": "code",
   "execution_count": 118,
   "id": "c7954019-3b18-4cae-8357-80e078857bb7",
   "metadata": {},
   "outputs": [
    {
     "name": "stdout",
     "output_type": "stream",
     "text": [
      "10 cross-validation scores:  [3.79250348 3.72884962 3.85434856 3.73051891 3.71377284 3.77326164\n",
      " 3.77344114 3.84054738 3.73052264 3.86235299]  \n",
      "Average Score:  3.78001191875\n"
     ]
    }
   ],
   "source": [
    "from sklearn.model_selection import cross_val_score\n",
    "# Again - no feature scaling in Random Forest so we may use unprocessed data!\n",
    "scores = cross_val_score(forest_reg, X, y,\n",
    "                         scoring=\"neg_mean_squared_error\", cv=10)\n",
    "print(\"10 cross-validation scores: \", -scores, \" \\nAverage Score: \",-scores.mean())"
   ]
  },
  {
   "cell_type": "markdown",
   "id": "1c9e894c-dda4-477b-a4c9-ae3a01e80eed",
   "metadata": {},
   "source": [
    "#### Support Vector Machines Regression"
   ]
  },
  {
   "cell_type": "markdown",
   "id": "c610abad-6b7f-49d4-b2a5-e137fa518bf8",
   "metadata": {},
   "source": [
    "https://scikit-learn.org/stable/modules/generated/sklearn.svm.SVR.html"
   ]
  },
  {
   "cell_type": "code",
   "execution_count": 121,
   "id": "94b70613-909a-49b1-ad3b-b8a6a8f2ccd6",
   "metadata": {
    "scrolled": true
   },
   "outputs": [
    {
     "name": "stderr",
     "output_type": "stream",
     "text": [
      "D:\\CONDA\\Lib\\site-packages\\sklearn\\svm\\_classes.py:31: FutureWarning: The default value of `dual` will change from `True` to `'auto'` in 1.5. Set the value of `dual` explicitly to suppress the warning.\n",
      "  warnings.warn(\n",
      "D:\\CONDA\\Lib\\site-packages\\sklearn\\svm\\_classes.py:31: FutureWarning: The default value of `dual` will change from `True` to `'auto'` in 1.5. Set the value of `dual` explicitly to suppress the warning.\n",
      "  warnings.warn(\n",
      "D:\\CONDA\\Lib\\site-packages\\sklearn\\svm\\_classes.py:31: FutureWarning: The default value of `dual` will change from `True` to `'auto'` in 1.5. Set the value of `dual` explicitly to suppress the warning.\n",
      "  warnings.warn(\n",
      "D:\\CONDA\\Lib\\site-packages\\sklearn\\svm\\_classes.py:31: FutureWarning: The default value of `dual` will change from `True` to `'auto'` in 1.5. Set the value of `dual` explicitly to suppress the warning.\n",
      "  warnings.warn(\n",
      "D:\\CONDA\\Lib\\site-packages\\sklearn\\svm\\_classes.py:31: FutureWarning: The default value of `dual` will change from `True` to `'auto'` in 1.5. Set the value of `dual` explicitly to suppress the warning.\n",
      "  warnings.warn(\n",
      "D:\\CONDA\\Lib\\site-packages\\sklearn\\svm\\_classes.py:31: FutureWarning: The default value of `dual` will change from `True` to `'auto'` in 1.5. Set the value of `dual` explicitly to suppress the warning.\n",
      "  warnings.warn(\n",
      "D:\\CONDA\\Lib\\site-packages\\sklearn\\svm\\_classes.py:31: FutureWarning: The default value of `dual` will change from `True` to `'auto'` in 1.5. Set the value of `dual` explicitly to suppress the warning.\n",
      "  warnings.warn(\n",
      "D:\\CONDA\\Lib\\site-packages\\sklearn\\svm\\_classes.py:31: FutureWarning: The default value of `dual` will change from `True` to `'auto'` in 1.5. Set the value of `dual` explicitly to suppress the warning.\n",
      "  warnings.warn(\n",
      "D:\\CONDA\\Lib\\site-packages\\sklearn\\svm\\_classes.py:31: FutureWarning: The default value of `dual` will change from `True` to `'auto'` in 1.5. Set the value of `dual` explicitly to suppress the warning.\n",
      "  warnings.warn(\n",
      "D:\\CONDA\\Lib\\site-packages\\sklearn\\svm\\_classes.py:31: FutureWarning: The default value of `dual` will change from `True` to `'auto'` in 1.5. Set the value of `dual` explicitly to suppress the warning.\n",
      "  warnings.warn(\n"
     ]
    },
    {
     "name": "stdout",
     "output_type": "stream",
     "text": [
      "10 cross-validation scores:  [4.79211881 4.72367224 4.98232778 4.91451741 4.76508247 4.82260035\n",
      " 4.78673543 4.96676451 4.73845425 5.16923478]  \n",
      "Average Score:  4.86615080369584\n"
     ]
    }
   ],
   "source": [
    "from sklearn.model_selection import cross_val_score\n",
    "\n",
    "scores = cross_val_score(svm_reg, X_processed, y,\n",
    "                         scoring=\"neg_mean_squared_error\", cv=10)\n",
    "print(\"10 cross-validation scores: \", -scores, \" \\nAverage Score: \",-scores.mean())"
   ]
  },
  {
   "cell_type": "markdown",
   "id": "acf068c0-7b66-430e-8459-acc0180f46b5",
   "metadata": {},
   "source": [
    "____________________________________"
   ]
  },
  {
   "cell_type": "markdown",
   "id": "0e94985f-674c-49a2-8dd5-6ca8f84ab068",
   "metadata": {},
   "source": [
    "So far the __Random Forest Regressor__ appears to have the best scores; however, we still have two major steps to perform:\n",
    "1. Tweaking any of the model parameters to further improve error scoring\n",
    "2. Comparing the Training vs. Testing error scoring to test for _Generalization Error_"
   ]
  },
  {
   "cell_type": "markdown",
   "id": "964d7622-389f-461c-87b3-66c061323aae",
   "metadata": {},
   "source": [
    "____________________________________"
   ]
  },
  {
   "cell_type": "markdown",
   "id": "0347d072-7a10-4a75-99cd-717b00203f71",
   "metadata": {},
   "source": [
    "## 6. Model Enhancement"
   ]
  },
  {
   "cell_type": "markdown",
   "id": "d50cf02b-1eba-4012-aece-737781c95412",
   "metadata": {},
   "source": [
    "### Manually Selected Hyperparameter Tuning (GridSearchCV)"
   ]
  },
  {
   "cell_type": "markdown",
   "id": "abc4f075-63b5-434d-8c8e-abe302c90c66",
   "metadata": {},
   "source": [
    "Each of the models have hyperparameters that may be adjusted so that the error scoring may be further improved. The hyperparameters are specific to each algorithm and using `Sklearn` __GridSearchCV__, one may include a list of values per each model's hyperparamter that will be tested using a scoring metric. The process is semi-autonomous as we must rerun GridSearchCV using narrowed down list of values based on the previous __GridSearchCV__. The process continues in an interative fashion until the scoring metric plateaus. Another option is to use `Sklearn` __RandomziedSearchCV__; however, this more autonomous process takes quite awhile especially with __Random Forest__ algorithms involved.\n",
    "\n",
    "https://scikit-learn.org/stable/modules/generated/sklearn.model_selection.RandomizedSearchCV.html"
   ]
  },
  {
   "cell_type": "code",
   "execution_count": 128,
   "id": "a202d3a2-976c-47b0-a5ad-f21882dadaf3",
   "metadata": {},
   "outputs": [],
   "source": [
    "from sklearn.model_selection import RandomizedSearchCV "
   ]
  },
  {
   "cell_type": "markdown",
   "id": "9aadd2a1-c501-4341-879f-f68903e621e7",
   "metadata": {},
   "source": [
    "### Linear Regression"
   ]
  },
  {
   "cell_type": "markdown",
   "id": "8a327562-7482-490c-9b60-09cab3f0924d",
   "metadata": {},
   "source": [
    "Unfortunately, we have reached the end of the road with linear regression model tuning as there are truly no hyperparameters in the model to tune. If _generalization error_ is truly bad, as we will see in the __Validation Section__, then we may perform __Regularization__ by adding a penality to the __cost function__ used to train the model such as a __L1 Norm__ or __L2 Norm__. "
   ]
  },
  {
   "cell_type": "markdown",
   "id": "f7040411-5243-4e0d-9786-31b80e39e06f",
   "metadata": {},
   "source": [
    "#### Optimal Support Vector Machine Regression Model"
   ]
  },
  {
   "cell_type": "code",
   "execution_count": 162,
   "id": "5c7990b8-5820-4860-be7f-b927446a0f48",
   "metadata": {},
   "outputs": [],
   "source": [
    "optimal_lr = lin_reg"
   ]
  },
  {
   "cell_type": "markdown",
   "id": "185d778c-5c11-45c2-8352-110827bb7e7f",
   "metadata": {},
   "source": [
    "### Random Forest Regression Hyperparameter Tuning"
   ]
  },
  {
   "cell_type": "markdown",
   "id": "616bd5cc-cd5c-4e63-9fc2-25e5c3ef740f",
   "metadata": {},
   "source": [
    "The following table list common hyperparamters that may be adjusted to obtain the optimal error scoring. The defaults are listed in the Sklean API:\n",
    "\n",
    "https://scikit-learn.org/stable/modules/generated/sklearn.ensemble.RandomForestRegressor.html\n",
    "\n",
    "| Hyperparamter   | Role | Increasing hyperparamter... |\n",
    "| ------- | --- | ------- |\n",
    "|__n_estimators__|number of trees|increases overfitting|\n",
    "|__max_depth__|maximum depth of the tree|increases overfitting|\n",
    "|__min_samples_split__|minimum number of samples required to split an internal node|decreases overfitting|\n",
    "|__min_samples_leaf__|minimum number of samples required to be at a leaf node|decreases overfitting|\n",
    "|__max_features__|number of features to consider when looking for the best split|increases overfitting|\n",
    "|__max_leaf_nodes__|number of leaf nodes|decreases overfitting|\n",
    "|__bootstrap__|allow reuse of instances in randomized resampling used by algorithm|decreases overfitting|\n"
   ]
  },
  {
   "cell_type": "markdown",
   "id": "397d32a5-fd85-4748-b89e-e42ab10fe126",
   "metadata": {},
   "source": [
    "#### RandomSearchCV"
   ]
  },
  {
   "cell_type": "code",
   "execution_count": 137,
   "id": "da244004-7170-46c6-b775-cabe19c12f95",
   "metadata": {},
   "outputs": [
    {
     "name": "stdout",
     "output_type": "stream",
     "text": [
      "{'n_estimators': 400, 'max_depth': 20}\n"
     ]
    }
   ],
   "source": [
    "# Define the hyperparameters and their distributions \n",
    "param_distributions = {'max_depth': [2,4,6,8,12,16,20,24,28,32], \n",
    "     'n_estimators':[1,100,200,300,400,500,600,700,800,900,1000],\n",
    "    'max_depth': [1,4,8,12,16,20,24,28,32]}\n",
    "\n",
    "# Create a model \n",
    "forest_reg = RandomForestRegressor(random_state=42)\n",
    "# Again - no feature scaling in Random Forest so we may use unprocessed data!  \n",
    "# Use randomized search to find the optimal hyperparameters \n",
    "random_search = RandomizedSearchCV(forest_reg, param_distributions) \n",
    "random_search.fit(X, y) \n",
    "  \n",
    "# Print the optimal values for the hyperparameters \n",
    "print(random_search.best_params_)"
   ]
  },
  {
   "cell_type": "markdown",
   "id": "de876661-7a63-47c8-ae3a-21d726a6bf3e",
   "metadata": {},
   "source": [
    "#### Optimal Random Forest Regression Model"
   ]
  },
  {
   "cell_type": "code",
   "execution_count": 141,
   "id": "113e2f1f-f584-4352-91a7-1cf64a8899b2",
   "metadata": {},
   "outputs": [],
   "source": [
    "optimal_rfr = RandomForestRegressor(random_state=42,\n",
    "    max_depth = 20,\n",
    "    n_estimators = 400 ).fit( X, y)"
   ]
  },
  {
   "cell_type": "markdown",
   "id": "251a2a5d-285f-49e8-bcb3-18aaa24a34c6",
   "metadata": {},
   "source": [
    "### Support Vector Machine Regression Hyperparameter Tuning"
   ]
  },
  {
   "cell_type": "markdown",
   "id": "2a08eaf5-1fa9-4ef3-a3b3-ac802baf0fe3",
   "metadata": {},
   "source": [
    "The following table list common hyperparamters that may be adjusted to obtain the optimal error scoring. The defaults are listed in the Sklean API:\n",
    "\n",
    "https://scikit-learn.org/stable/modules/generated/sklearn.ensemble.RandomForestRegressor.html\n",
    "\n",
    "| Hyperparamter   | Role | Increasing hyperparamter... |\n",
    "| ------- | --- | ------- |\n",
    "|__C__|number of trees|increases overfitting|\n",
    "|__epsilon__|width of the margins|decreases overfitting|\n",
    "\n"
   ]
  },
  {
   "cell_type": "markdown",
   "id": "0a5e8d87-1205-4fbb-8b26-e01edfab2a72",
   "metadata": {},
   "source": [
    "#### RandomSearchCV"
   ]
  },
  {
   "cell_type": "code",
   "execution_count": 149,
   "id": "088c4b5e-cd9d-4f2e-a24b-f58b89a1fed7",
   "metadata": {},
   "outputs": [
    {
     "name": "stderr",
     "output_type": "stream",
     "text": [
      "D:\\CONDA\\Lib\\site-packages\\sklearn\\svm\\_classes.py:31: FutureWarning: The default value of `dual` will change from `True` to `'auto'` in 1.5. Set the value of `dual` explicitly to suppress the warning.\n",
      "  warnings.warn(\n",
      "D:\\CONDA\\Lib\\site-packages\\sklearn\\svm\\_base.py:1237: ConvergenceWarning: Liblinear failed to converge, increase the number of iterations.\n",
      "  warnings.warn(\n",
      "D:\\CONDA\\Lib\\site-packages\\sklearn\\svm\\_classes.py:31: FutureWarning: The default value of `dual` will change from `True` to `'auto'` in 1.5. Set the value of `dual` explicitly to suppress the warning.\n",
      "  warnings.warn(\n",
      "D:\\CONDA\\Lib\\site-packages\\sklearn\\svm\\_base.py:1237: ConvergenceWarning: Liblinear failed to converge, increase the number of iterations.\n",
      "  warnings.warn(\n",
      "D:\\CONDA\\Lib\\site-packages\\sklearn\\svm\\_classes.py:31: FutureWarning: The default value of `dual` will change from `True` to `'auto'` in 1.5. Set the value of `dual` explicitly to suppress the warning.\n",
      "  warnings.warn(\n",
      "D:\\CONDA\\Lib\\site-packages\\sklearn\\svm\\_base.py:1237: ConvergenceWarning: Liblinear failed to converge, increase the number of iterations.\n",
      "  warnings.warn(\n",
      "D:\\CONDA\\Lib\\site-packages\\sklearn\\svm\\_classes.py:31: FutureWarning: The default value of `dual` will change from `True` to `'auto'` in 1.5. Set the value of `dual` explicitly to suppress the warning.\n",
      "  warnings.warn(\n",
      "D:\\CONDA\\Lib\\site-packages\\sklearn\\svm\\_base.py:1237: ConvergenceWarning: Liblinear failed to converge, increase the number of iterations.\n",
      "  warnings.warn(\n",
      "D:\\CONDA\\Lib\\site-packages\\sklearn\\svm\\_classes.py:31: FutureWarning: The default value of `dual` will change from `True` to `'auto'` in 1.5. Set the value of `dual` explicitly to suppress the warning.\n",
      "  warnings.warn(\n",
      "D:\\CONDA\\Lib\\site-packages\\sklearn\\svm\\_base.py:1237: ConvergenceWarning: Liblinear failed to converge, increase the number of iterations.\n",
      "  warnings.warn(\n",
      "D:\\CONDA\\Lib\\site-packages\\sklearn\\svm\\_classes.py:31: FutureWarning: The default value of `dual` will change from `True` to `'auto'` in 1.5. Set the value of `dual` explicitly to suppress the warning.\n",
      "  warnings.warn(\n",
      "D:\\CONDA\\Lib\\site-packages\\sklearn\\svm\\_base.py:1237: ConvergenceWarning: Liblinear failed to converge, increase the number of iterations.\n",
      "  warnings.warn(\n",
      "D:\\CONDA\\Lib\\site-packages\\sklearn\\svm\\_classes.py:31: FutureWarning: The default value of `dual` will change from `True` to `'auto'` in 1.5. Set the value of `dual` explicitly to suppress the warning.\n",
      "  warnings.warn(\n",
      "D:\\CONDA\\Lib\\site-packages\\sklearn\\svm\\_base.py:1237: ConvergenceWarning: Liblinear failed to converge, increase the number of iterations.\n",
      "  warnings.warn(\n",
      "D:\\CONDA\\Lib\\site-packages\\sklearn\\svm\\_classes.py:31: FutureWarning: The default value of `dual` will change from `True` to `'auto'` in 1.5. Set the value of `dual` explicitly to suppress the warning.\n",
      "  warnings.warn(\n",
      "D:\\CONDA\\Lib\\site-packages\\sklearn\\svm\\_base.py:1237: ConvergenceWarning: Liblinear failed to converge, increase the number of iterations.\n",
      "  warnings.warn(\n",
      "D:\\CONDA\\Lib\\site-packages\\sklearn\\svm\\_classes.py:31: FutureWarning: The default value of `dual` will change from `True` to `'auto'` in 1.5. Set the value of `dual` explicitly to suppress the warning.\n",
      "  warnings.warn(\n",
      "D:\\CONDA\\Lib\\site-packages\\sklearn\\svm\\_base.py:1237: ConvergenceWarning: Liblinear failed to converge, increase the number of iterations.\n",
      "  warnings.warn(\n",
      "D:\\CONDA\\Lib\\site-packages\\sklearn\\svm\\_classes.py:31: FutureWarning: The default value of `dual` will change from `True` to `'auto'` in 1.5. Set the value of `dual` explicitly to suppress the warning.\n",
      "  warnings.warn(\n",
      "D:\\CONDA\\Lib\\site-packages\\sklearn\\svm\\_base.py:1237: ConvergenceWarning: Liblinear failed to converge, increase the number of iterations.\n",
      "  warnings.warn(\n",
      "D:\\CONDA\\Lib\\site-packages\\sklearn\\svm\\_classes.py:31: FutureWarning: The default value of `dual` will change from `True` to `'auto'` in 1.5. Set the value of `dual` explicitly to suppress the warning.\n",
      "  warnings.warn(\n",
      "D:\\CONDA\\Lib\\site-packages\\sklearn\\svm\\_classes.py:31: FutureWarning: The default value of `dual` will change from `True` to `'auto'` in 1.5. Set the value of `dual` explicitly to suppress the warning.\n",
      "  warnings.warn(\n",
      "D:\\CONDA\\Lib\\site-packages\\sklearn\\svm\\_classes.py:31: FutureWarning: The default value of `dual` will change from `True` to `'auto'` in 1.5. Set the value of `dual` explicitly to suppress the warning.\n",
      "  warnings.warn(\n",
      "D:\\CONDA\\Lib\\site-packages\\sklearn\\svm\\_classes.py:31: FutureWarning: The default value of `dual` will change from `True` to `'auto'` in 1.5. Set the value of `dual` explicitly to suppress the warning.\n",
      "  warnings.warn(\n",
      "D:\\CONDA\\Lib\\site-packages\\sklearn\\svm\\_classes.py:31: FutureWarning: The default value of `dual` will change from `True` to `'auto'` in 1.5. Set the value of `dual` explicitly to suppress the warning.\n",
      "  warnings.warn(\n",
      "D:\\CONDA\\Lib\\site-packages\\sklearn\\svm\\_classes.py:31: FutureWarning: The default value of `dual` will change from `True` to `'auto'` in 1.5. Set the value of `dual` explicitly to suppress the warning.\n",
      "  warnings.warn(\n",
      "D:\\CONDA\\Lib\\site-packages\\sklearn\\svm\\_base.py:1237: ConvergenceWarning: Liblinear failed to converge, increase the number of iterations.\n",
      "  warnings.warn(\n",
      "D:\\CONDA\\Lib\\site-packages\\sklearn\\svm\\_classes.py:31: FutureWarning: The default value of `dual` will change from `True` to `'auto'` in 1.5. Set the value of `dual` explicitly to suppress the warning.\n",
      "  warnings.warn(\n",
      "D:\\CONDA\\Lib\\site-packages\\sklearn\\svm\\_base.py:1237: ConvergenceWarning: Liblinear failed to converge, increase the number of iterations.\n",
      "  warnings.warn(\n",
      "D:\\CONDA\\Lib\\site-packages\\sklearn\\svm\\_classes.py:31: FutureWarning: The default value of `dual` will change from `True` to `'auto'` in 1.5. Set the value of `dual` explicitly to suppress the warning.\n",
      "  warnings.warn(\n",
      "D:\\CONDA\\Lib\\site-packages\\sklearn\\svm\\_base.py:1237: ConvergenceWarning: Liblinear failed to converge, increase the number of iterations.\n",
      "  warnings.warn(\n",
      "D:\\CONDA\\Lib\\site-packages\\sklearn\\svm\\_classes.py:31: FutureWarning: The default value of `dual` will change from `True` to `'auto'` in 1.5. Set the value of `dual` explicitly to suppress the warning.\n",
      "  warnings.warn(\n",
      "D:\\CONDA\\Lib\\site-packages\\sklearn\\svm\\_base.py:1237: ConvergenceWarning: Liblinear failed to converge, increase the number of iterations.\n",
      "  warnings.warn(\n",
      "D:\\CONDA\\Lib\\site-packages\\sklearn\\svm\\_classes.py:31: FutureWarning: The default value of `dual` will change from `True` to `'auto'` in 1.5. Set the value of `dual` explicitly to suppress the warning.\n",
      "  warnings.warn(\n",
      "D:\\CONDA\\Lib\\site-packages\\sklearn\\svm\\_base.py:1237: ConvergenceWarning: Liblinear failed to converge, increase the number of iterations.\n",
      "  warnings.warn(\n",
      "D:\\CONDA\\Lib\\site-packages\\sklearn\\svm\\_classes.py:31: FutureWarning: The default value of `dual` will change from `True` to `'auto'` in 1.5. Set the value of `dual` explicitly to suppress the warning.\n",
      "  warnings.warn(\n",
      "D:\\CONDA\\Lib\\site-packages\\sklearn\\svm\\_base.py:1237: ConvergenceWarning: Liblinear failed to converge, increase the number of iterations.\n",
      "  warnings.warn(\n",
      "D:\\CONDA\\Lib\\site-packages\\sklearn\\svm\\_classes.py:31: FutureWarning: The default value of `dual` will change from `True` to `'auto'` in 1.5. Set the value of `dual` explicitly to suppress the warning.\n",
      "  warnings.warn(\n",
      "D:\\CONDA\\Lib\\site-packages\\sklearn\\svm\\_base.py:1237: ConvergenceWarning: Liblinear failed to converge, increase the number of iterations.\n",
      "  warnings.warn(\n",
      "D:\\CONDA\\Lib\\site-packages\\sklearn\\svm\\_classes.py:31: FutureWarning: The default value of `dual` will change from `True` to `'auto'` in 1.5. Set the value of `dual` explicitly to suppress the warning.\n",
      "  warnings.warn(\n",
      "D:\\CONDA\\Lib\\site-packages\\sklearn\\svm\\_base.py:1237: ConvergenceWarning: Liblinear failed to converge, increase the number of iterations.\n",
      "  warnings.warn(\n",
      "D:\\CONDA\\Lib\\site-packages\\sklearn\\svm\\_classes.py:31: FutureWarning: The default value of `dual` will change from `True` to `'auto'` in 1.5. Set the value of `dual` explicitly to suppress the warning.\n",
      "  warnings.warn(\n",
      "D:\\CONDA\\Lib\\site-packages\\sklearn\\svm\\_base.py:1237: ConvergenceWarning: Liblinear failed to converge, increase the number of iterations.\n",
      "  warnings.warn(\n",
      "D:\\CONDA\\Lib\\site-packages\\sklearn\\svm\\_classes.py:31: FutureWarning: The default value of `dual` will change from `True` to `'auto'` in 1.5. Set the value of `dual` explicitly to suppress the warning.\n",
      "  warnings.warn(\n",
      "D:\\CONDA\\Lib\\site-packages\\sklearn\\svm\\_base.py:1237: ConvergenceWarning: Liblinear failed to converge, increase the number of iterations.\n",
      "  warnings.warn(\n",
      "D:\\CONDA\\Lib\\site-packages\\sklearn\\svm\\_classes.py:31: FutureWarning: The default value of `dual` will change from `True` to `'auto'` in 1.5. Set the value of `dual` explicitly to suppress the warning.\n",
      "  warnings.warn(\n",
      "D:\\CONDA\\Lib\\site-packages\\sklearn\\svm\\_classes.py:31: FutureWarning: The default value of `dual` will change from `True` to `'auto'` in 1.5. Set the value of `dual` explicitly to suppress the warning.\n",
      "  warnings.warn(\n",
      "D:\\CONDA\\Lib\\site-packages\\sklearn\\svm\\_classes.py:31: FutureWarning: The default value of `dual` will change from `True` to `'auto'` in 1.5. Set the value of `dual` explicitly to suppress the warning.\n",
      "  warnings.warn(\n",
      "D:\\CONDA\\Lib\\site-packages\\sklearn\\svm\\_classes.py:31: FutureWarning: The default value of `dual` will change from `True` to `'auto'` in 1.5. Set the value of `dual` explicitly to suppress the warning.\n",
      "  warnings.warn(\n",
      "D:\\CONDA\\Lib\\site-packages\\sklearn\\svm\\_classes.py:31: FutureWarning: The default value of `dual` will change from `True` to `'auto'` in 1.5. Set the value of `dual` explicitly to suppress the warning.\n",
      "  warnings.warn(\n",
      "D:\\CONDA\\Lib\\site-packages\\sklearn\\svm\\_classes.py:31: FutureWarning: The default value of `dual` will change from `True` to `'auto'` in 1.5. Set the value of `dual` explicitly to suppress the warning.\n",
      "  warnings.warn(\n",
      "D:\\CONDA\\Lib\\site-packages\\sklearn\\svm\\_classes.py:31: FutureWarning: The default value of `dual` will change from `True` to `'auto'` in 1.5. Set the value of `dual` explicitly to suppress the warning.\n",
      "  warnings.warn(\n",
      "D:\\CONDA\\Lib\\site-packages\\sklearn\\svm\\_classes.py:31: FutureWarning: The default value of `dual` will change from `True` to `'auto'` in 1.5. Set the value of `dual` explicitly to suppress the warning.\n",
      "  warnings.warn(\n",
      "D:\\CONDA\\Lib\\site-packages\\sklearn\\svm\\_classes.py:31: FutureWarning: The default value of `dual` will change from `True` to `'auto'` in 1.5. Set the value of `dual` explicitly to suppress the warning.\n",
      "  warnings.warn(\n",
      "D:\\CONDA\\Lib\\site-packages\\sklearn\\svm\\_classes.py:31: FutureWarning: The default value of `dual` will change from `True` to `'auto'` in 1.5. Set the value of `dual` explicitly to suppress the warning.\n",
      "  warnings.warn(\n",
      "D:\\CONDA\\Lib\\site-packages\\sklearn\\svm\\_classes.py:31: FutureWarning: The default value of `dual` will change from `True` to `'auto'` in 1.5. Set the value of `dual` explicitly to suppress the warning.\n",
      "  warnings.warn(\n",
      "D:\\CONDA\\Lib\\site-packages\\sklearn\\svm\\_base.py:1237: ConvergenceWarning: Liblinear failed to converge, increase the number of iterations.\n",
      "  warnings.warn(\n",
      "D:\\CONDA\\Lib\\site-packages\\sklearn\\svm\\_classes.py:31: FutureWarning: The default value of `dual` will change from `True` to `'auto'` in 1.5. Set the value of `dual` explicitly to suppress the warning.\n",
      "  warnings.warn(\n",
      "D:\\CONDA\\Lib\\site-packages\\sklearn\\svm\\_base.py:1237: ConvergenceWarning: Liblinear failed to converge, increase the number of iterations.\n",
      "  warnings.warn(\n",
      "D:\\CONDA\\Lib\\site-packages\\sklearn\\svm\\_classes.py:31: FutureWarning: The default value of `dual` will change from `True` to `'auto'` in 1.5. Set the value of `dual` explicitly to suppress the warning.\n",
      "  warnings.warn(\n",
      "D:\\CONDA\\Lib\\site-packages\\sklearn\\svm\\_base.py:1237: ConvergenceWarning: Liblinear failed to converge, increase the number of iterations.\n",
      "  warnings.warn(\n",
      "D:\\CONDA\\Lib\\site-packages\\sklearn\\svm\\_classes.py:31: FutureWarning: The default value of `dual` will change from `True` to `'auto'` in 1.5. Set the value of `dual` explicitly to suppress the warning.\n",
      "  warnings.warn(\n",
      "D:\\CONDA\\Lib\\site-packages\\sklearn\\svm\\_base.py:1237: ConvergenceWarning: Liblinear failed to converge, increase the number of iterations.\n",
      "  warnings.warn(\n",
      "D:\\CONDA\\Lib\\site-packages\\sklearn\\svm\\_classes.py:31: FutureWarning: The default value of `dual` will change from `True` to `'auto'` in 1.5. Set the value of `dual` explicitly to suppress the warning.\n",
      "  warnings.warn(\n",
      "D:\\CONDA\\Lib\\site-packages\\sklearn\\svm\\_base.py:1237: ConvergenceWarning: Liblinear failed to converge, increase the number of iterations.\n",
      "  warnings.warn(\n",
      "D:\\CONDA\\Lib\\site-packages\\sklearn\\svm\\_classes.py:31: FutureWarning: The default value of `dual` will change from `True` to `'auto'` in 1.5. Set the value of `dual` explicitly to suppress the warning.\n",
      "  warnings.warn(\n",
      "D:\\CONDA\\Lib\\site-packages\\sklearn\\svm\\_base.py:1237: ConvergenceWarning: Liblinear failed to converge, increase the number of iterations.\n",
      "  warnings.warn(\n",
      "D:\\CONDA\\Lib\\site-packages\\sklearn\\svm\\_classes.py:31: FutureWarning: The default value of `dual` will change from `True` to `'auto'` in 1.5. Set the value of `dual` explicitly to suppress the warning.\n",
      "  warnings.warn(\n",
      "D:\\CONDA\\Lib\\site-packages\\sklearn\\svm\\_base.py:1237: ConvergenceWarning: Liblinear failed to converge, increase the number of iterations.\n",
      "  warnings.warn(\n",
      "D:\\CONDA\\Lib\\site-packages\\sklearn\\svm\\_classes.py:31: FutureWarning: The default value of `dual` will change from `True` to `'auto'` in 1.5. Set the value of `dual` explicitly to suppress the warning.\n",
      "  warnings.warn(\n",
      "D:\\CONDA\\Lib\\site-packages\\sklearn\\svm\\_base.py:1237: ConvergenceWarning: Liblinear failed to converge, increase the number of iterations.\n",
      "  warnings.warn(\n",
      "D:\\CONDA\\Lib\\site-packages\\sklearn\\svm\\_classes.py:31: FutureWarning: The default value of `dual` will change from `True` to `'auto'` in 1.5. Set the value of `dual` explicitly to suppress the warning.\n",
      "  warnings.warn(\n",
      "D:\\CONDA\\Lib\\site-packages\\sklearn\\svm\\_base.py:1237: ConvergenceWarning: Liblinear failed to converge, increase the number of iterations.\n",
      "  warnings.warn(\n",
      "D:\\CONDA\\Lib\\site-packages\\sklearn\\svm\\_classes.py:31: FutureWarning: The default value of `dual` will change from `True` to `'auto'` in 1.5. Set the value of `dual` explicitly to suppress the warning.\n",
      "  warnings.warn(\n",
      "D:\\CONDA\\Lib\\site-packages\\sklearn\\svm\\_base.py:1237: ConvergenceWarning: Liblinear failed to converge, increase the number of iterations.\n",
      "  warnings.warn(\n",
      "D:\\CONDA\\Lib\\site-packages\\sklearn\\svm\\_classes.py:31: FutureWarning: The default value of `dual` will change from `True` to `'auto'` in 1.5. Set the value of `dual` explicitly to suppress the warning.\n",
      "  warnings.warn(\n",
      "D:\\CONDA\\Lib\\site-packages\\sklearn\\svm\\_base.py:1237: ConvergenceWarning: Liblinear failed to converge, increase the number of iterations.\n",
      "  warnings.warn(\n",
      "D:\\CONDA\\Lib\\site-packages\\sklearn\\svm\\_classes.py:31: FutureWarning: The default value of `dual` will change from `True` to `'auto'` in 1.5. Set the value of `dual` explicitly to suppress the warning.\n",
      "  warnings.warn(\n",
      "D:\\CONDA\\Lib\\site-packages\\sklearn\\svm\\_base.py:1237: ConvergenceWarning: Liblinear failed to converge, increase the number of iterations.\n",
      "  warnings.warn(\n",
      "D:\\CONDA\\Lib\\site-packages\\sklearn\\svm\\_classes.py:31: FutureWarning: The default value of `dual` will change from `True` to `'auto'` in 1.5. Set the value of `dual` explicitly to suppress the warning.\n",
      "  warnings.warn(\n",
      "D:\\CONDA\\Lib\\site-packages\\sklearn\\svm\\_base.py:1237: ConvergenceWarning: Liblinear failed to converge, increase the number of iterations.\n",
      "  warnings.warn(\n",
      "D:\\CONDA\\Lib\\site-packages\\sklearn\\svm\\_classes.py:31: FutureWarning: The default value of `dual` will change from `True` to `'auto'` in 1.5. Set the value of `dual` explicitly to suppress the warning.\n",
      "  warnings.warn(\n",
      "D:\\CONDA\\Lib\\site-packages\\sklearn\\svm\\_base.py:1237: ConvergenceWarning: Liblinear failed to converge, increase the number of iterations.\n",
      "  warnings.warn(\n",
      "D:\\CONDA\\Lib\\site-packages\\sklearn\\svm\\_classes.py:31: FutureWarning: The default value of `dual` will change from `True` to `'auto'` in 1.5. Set the value of `dual` explicitly to suppress the warning.\n",
      "  warnings.warn(\n",
      "D:\\CONDA\\Lib\\site-packages\\sklearn\\svm\\_base.py:1237: ConvergenceWarning: Liblinear failed to converge, increase the number of iterations.\n",
      "  warnings.warn(\n",
      "D:\\CONDA\\Lib\\site-packages\\sklearn\\svm\\_classes.py:31: FutureWarning: The default value of `dual` will change from `True` to `'auto'` in 1.5. Set the value of `dual` explicitly to suppress the warning.\n",
      "  warnings.warn(\n"
     ]
    },
    {
     "name": "stdout",
     "output_type": "stream",
     "text": [
      "{'epsilon': 2.0, 'C': 0.01}\n"
     ]
    }
   ],
   "source": [
    "from sklearn.svm import LinearSVR\n",
    "# Define the hyperparameters and their distributions \n",
    "param_distributions = {'C': [0.01,10,100,1000], \n",
    "     'epsilon': [0.5,1.0, 2.0]}\n",
    "# Create a model \n",
    "svm_reg = LinearSVR()\n",
    "  \n",
    "# Use randomized search to find the optimal hyperparameters \n",
    "random_search = RandomizedSearchCV(svm_reg, param_distributions) \n",
    "random_search\n",
    "  \n",
    "# Print the optimal values for the hyperparameters \n",
    "print(random_search.best_params_) "
   ]
  },
  {
   "cell_type": "markdown",
   "id": "3ee40ce0-81d8-49c1-8b21-364250e13737",
   "metadata": {},
   "source": [
    "#### Optimal Support Vector Machine Regression Model"
   ]
  },
  {
   "cell_type": "code",
   "execution_count": 177,
   "id": "dfe75f1e-8aae-4c92-ac0b-6f4d8af215e0",
   "metadata": {},
   "outputs": [
    {
     "name": "stderr",
     "output_type": "stream",
     "text": [
      "D:\\CONDA\\Lib\\site-packages\\sklearn\\svm\\_classes.py:31: FutureWarning: The default value of `dual` will change from `True` to `'auto'` in 1.5. Set the value of `dual` explicitly to suppress the warning.\n",
      "  warnings.warn(\n"
     ]
    }
   ],
   "source": [
    "optimal_svr = LinearSVR(epsilon= 2.0, C = 0.01).fit(X_processed, y)"
   ]
  },
  {
   "cell_type": "markdown",
   "id": "51c7df26-7faa-4fde-a535-61584dc90574",
   "metadata": {},
   "source": [
    "## 7. Model Predictions"
   ]
  },
  {
   "cell_type": "markdown",
   "id": "ebcb4726-72f3-4c25-88b4-c00c58ae5b06",
   "metadata": {},
   "source": [
    "The main point of creating models is too allow stakeholders to make predictions. Here, create the pedicted values based on the test set that will be compared to our corresponding labels in the next section __Model Validation__ to test how well the final models generalize."
   ]
  },
  {
   "cell_type": "markdown",
   "id": "9930ec3f-589f-4fbf-9cb0-6792b6b9a42b",
   "metadata": {},
   "source": [
    "#### Prior to Fitting the Test Data, We Must Process!"
   ]
  },
  {
   "cell_type": "code",
   "execution_count": 165,
   "id": "ade47241-8d13-4b3d-9abe-cf35b90e97bb",
   "metadata": {},
   "outputs": [],
   "source": [
    "## **** GOAL: Apply transformations to test set ***\n",
    "#            X_test \n",
    "#           y_test \n",
    "\n",
    "## IMPORTANT: DOES NOT APPLY TO RANDOM FOREST!!\n",
    "\n",
    "# create a list of categorical columns where max value is 1\n",
    "cats = []\n",
    "for cols in X_test:\n",
    "    if X_test[cols].max() == 1:\n",
    "        cats.append(cols)\n",
    "\n",
    "# create categorical and numerical dfs\n",
    "X_cat_test = X_test.loc[:,cats]\n",
    "X_num_test = X_test.drop(cats,axis=1)\n",
    "\n",
    "# scale numerical df\n",
    "from sklearn.preprocessing import StandardScaler\n",
    "num_scaler = StandardScaler()\n",
    "X_num_scaler_test = num_scaler.fit_transform(X_num_test)\n",
    "\n",
    "# combined scaled numerical df and X_cat\n",
    "X_num_scaler_test_df = pd.DataFrame(X_num_scaler_test,columns=X_num_test.columns)\n",
    "X_processed_test = pd.concat([X_num_scaler_test_df, X_cat_test.reset_index(drop=True)], axis=1)"
   ]
  },
  {
   "cell_type": "markdown",
   "id": "59048d23-09ec-4a6a-bbd0-9cfaad754b92",
   "metadata": {},
   "source": [
    "__Below, we see that each model comes represents the average Length of Stay outcome variable fairly well. Previously, we describe this number to be around 4 days but with some variance, and the prediction arrays below appear to correspond.__"
   ]
  },
  {
   "cell_type": "markdown",
   "id": "f66e9a49-4f08-437d-a80f-215c7271fbe2",
   "metadata": {},
   "source": [
    "### Linear Regression Predictive Values (Best Speed)"
   ]
  },
  {
   "cell_type": "code",
   "execution_count": 169,
   "id": "13282ef4-b0e7-43af-83a9-9fe862c6d526",
   "metadata": {},
   "outputs": [
    {
     "data": {
      "text/plain": [
       "array([5.05043268, 3.27452622, 3.35042014, ..., 4.20922685, 4.52182191,\n",
       "       4.72500475])"
      ]
     },
     "execution_count": 169,
     "metadata": {},
     "output_type": "execute_result"
    }
   ],
   "source": [
    "lr_y_pred = optimal_lr.predict(X_processed_test)\n",
    "lr_y_pred"
   ]
  },
  {
   "cell_type": "markdown",
   "id": "f7fd0420-0b09-4468-b51f-bfb76d7754d8",
   "metadata": {},
   "source": [
    "### Random Forest Regression Predictive Values (Best Overall)"
   ]
  },
  {
   "cell_type": "code",
   "execution_count": 171,
   "id": "0f37f5a8-6187-4a72-ac69-820e63dafb1e",
   "metadata": {},
   "outputs": [
    {
     "data": {
      "text/plain": [
       "array([4.92361531, 2.47638743, 3.32700191, ..., 4.40622966, 6.58004143,\n",
       "       4.64154704])"
      ]
     },
     "execution_count": 171,
     "metadata": {},
     "output_type": "execute_result"
    }
   ],
   "source": [
    "rfr_y_pred = optimal_rfr.predict(X_test)\n",
    "rfr_y_pred"
   ]
  },
  {
   "cell_type": "markdown",
   "id": "6855b19d-2c22-4c33-8d73-7ba5449e6ce2",
   "metadata": {},
   "source": [
    "### Support Vector Machines Regression Predictive Values (Too Slow!)"
   ]
  },
  {
   "cell_type": "code",
   "execution_count": 179,
   "id": "5e3f1bb7-d3b7-4c90-8c8a-4a9e5a976acb",
   "metadata": {},
   "outputs": [
    {
     "data": {
      "text/plain": [
       "array([5.03316074, 3.01544812, 3.04459313, ..., 4.01294614, 4.81115761,\n",
       "       4.48453548])"
      ]
     },
     "execution_count": 179,
     "metadata": {},
     "output_type": "execute_result"
    }
   ],
   "source": [
    "svr_y_pred = optimal_svr.predict(X_processed_test)\n",
    "svr_y_pred"
   ]
  },
  {
   "cell_type": "markdown",
   "id": "1cbdc710-f916-405e-967b-1e6151a727ca",
   "metadata": {},
   "source": [
    "## 8. Model Validation"
   ]
  },
  {
   "cell_type": "markdown",
   "id": "1f1921e4-d97a-4c9a-84e4-dd660977a64c",
   "metadata": {},
   "source": [
    "https://scikit-learn.org/stable/auto_examples/model_selection/plot_train_error_vs_test_error.html"
   ]
  },
  {
   "cell_type": "markdown",
   "id": "f9bc2602-f1a1-4aa5-abf8-c16a95674467",
   "metadata": {},
   "source": [
    "Route 1: Simply calculate the MSE"
   ]
  },
  {
   "cell_type": "code",
   "execution_count": 183,
   "id": "642e506d-96a6-4c97-812a-e0c6d56e062e",
   "metadata": {
    "scrolled": true
   },
   "outputs": [
    {
     "name": "stdout",
     "output_type": "stream",
     "text": [
      "GradientBoostingRegressor mean squared error (MSE): 4.4957\n",
      "RandomForestRegressor mean squared error (MSE): 3.6333\n",
      "DecisionTreeRegressor mean squared error (MSE): 4.5978\n"
     ]
    }
   ],
   "source": [
    "from sklearn.metrics import mean_squared_error\n",
    "# GradientBoostingRegressor\n",
    "lr_mse = mean_squared_error(y_test, lr_y_pred)\n",
    "print(\"GradientBoostingRegressor mean squared error (MSE): {:.4f}\".format(lr_mse))\n",
    "# RandomForestRegressor\n",
    "rfr_mse = mean_squared_error(y_test, rfr_y_pred)\n",
    "print(\"RandomForestRegressor mean squared error (MSE): {:.4f}\".format(rfr_mse))\n",
    "# DecisionTreeRegressor\n",
    "svr_mse = mean_squared_error(y_test, svr_y_pred)\n",
    "print(\"DecisionTreeRegressor mean squared error (MSE): {:.4f}\".format(svr_mse))"
   ]
  },
  {
   "cell_type": "markdown",
   "id": "1a3fa596-783a-46e7-a4c6-85eaaf117c7d",
   "metadata": {},
   "source": [
    "#### Random Forest Regresion - Root Mean Squared Error (RMSE)"
   ]
  },
  {
   "cell_type": "markdown",
   "id": "70a699f4-57e0-49e5-8205-15047453e88f",
   "metadata": {},
   "source": [
    "Below, the __Root Mean Squared Error__ is calculated to give an error estimation in the same scale as the actual data. We choose the RMSE for our optial model, __Random Forest_, and found that __1.9__ as value corresponds to square root of all the error distances from our model to the actual data points. "
   ]
  },
  {
   "cell_type": "code",
   "execution_count": 230,
   "id": "21aed4d6-89a8-4566-a829-37af8a894a2d",
   "metadata": {},
   "outputs": [
    {
     "name": "stdout",
     "output_type": "stream",
     "text": [
      "RMSE:  1.9061090899426818\n"
     ]
    }
   ],
   "source": [
    "import math\n",
    "rfr_rmse = math.sqrt(rfr_mse)\n",
    "print('RMSE: ',rfr_rmse)"
   ]
  },
  {
   "cell_type": "markdown",
   "id": "9ab77077-18cc-4e63-a10b-7744d4b5f8ee",
   "metadata": {},
   "source": [
    "To better guage the RMSE value from above, we may __standardized__ this value to the actual Length of Stay labels using a __min-max__ function to see where the RMSE value 'fits in with the actual labels':"
   ]
  },
  {
   "cell_type": "code",
   "execution_count": 241,
   "id": "60d03977-3ff5-4997-9754-371daf29b59e",
   "metadata": {},
   "outputs": [
    {
     "name": "stdout",
     "output_type": "stream",
     "text": [
      "Normalized RMSE:  0.11913181812141761\n",
      "Normalized RMSE as % of Maximum:  0.7445738632588601  %\n"
     ]
    }
   ],
   "source": [
    "print('Normalized RMSE: ',rfr_rmse/(y_test.max() - y_test.min())  )\n",
    "print('Normalized RMSE as % of Maximum: ', (rfr_rmse/(y_test.max() - y_test.min()))/ (y_test.max() - y_test.min()) * 100, ' %') "
   ]
  },
  {
   "cell_type": "markdown",
   "id": "1880bb15-f861-4b81-b19e-2b0395ed710f",
   "metadata": {},
   "source": [
    "It apparent the in both the training and testing phases that the __RandomForestRegressor__ is the optimal model based on the lowest _Mean Squared Error_. Note, performance-wise the Random Forest is not as fast as Linear Regression; however, is much faster than Support Vector Machines. \n",
    "\n",
    "Another benefit of __Random Forest__ is the opportunity to explore the algorithm's __Feature Importance__ function that allows analyst to view the best performing features or columns. Note, the __Gini Importance__ is an informative measure that notes how much information or ability to distinguish data among specific features. Features that are able to distinguish the data set provide the least error or model the data the best.\n",
    "\n",
    "Moreover, the __Random Forest__ algorithm is a __non-parametric_ test which allows us to void having to test any assumptions.\n",
    "\n",
    "Specifically, we see that creatinine values (lab test for kidney functioning), psychological disorders, and iron deficiency levels for patients are features that contribute the most to prediction the Length of Stay in the __Random Forest model__."
   ]
  },
  {
   "cell_type": "markdown",
   "id": "16d89d61-c50c-405f-a154-30e31d073be9",
   "metadata": {},
   "source": [
    "#### Random Forest Feature Importance"
   ]
  },
  {
   "cell_type": "code",
   "execution_count": 203,
   "id": "87033243-c667-4431-9f69-592270d40b58",
   "metadata": {
    "scrolled": true
   },
   "outputs": [
    {
     "name": "stdout",
     "output_type": "stream",
     "text": [
      "                       Feature  Gini Importance\n",
      "5                   creatinine         0.138017\n",
      "14  psychologicaldisordermajor         0.087100\n",
      "11                     irondef         0.086243\n",
      "13         substancedependence         0.086028\n",
      "17            fibrosisandother         0.084881\n",
      "16                  psychother         0.083324\n",
      "18                malnutrition         0.069045\n",
      "19                        hemo         0.066246\n",
      "10                      asthma         0.064227\n",
      "12                       pneum         0.061300\n",
      "15                     depress         0.056625\n",
      "2                       sodium         0.040963\n",
      "4               bloodureanitro         0.023642\n",
      "1                  neutrophils         0.015382\n",
      "7                        pulse         0.010532\n",
      "3                      glucose         0.009966\n",
      "0                   hematocrit         0.005617\n",
      "6                          bmi         0.005283\n",
      "9        dialysisrenalendstage         0.004807\n",
      "8                  respiration         0.000768\n"
     ]
    }
   ],
   "source": [
    "# Built-in feature importance (Gini Importance)\n",
    "feature_names = X_processed.columns\n",
    "importances = optimal_rfr.feature_importances_\n",
    "feature_imp_df = pd.DataFrame({ 'Feature': feature_names, 'Gini Importance': importances}).sort_values('Gini Importance', ascending=False) \n",
    "print(feature_imp_df)"
   ]
  },
  {
   "cell_type": "markdown",
   "id": "3bdb3090-3466-4e36-b01c-c23c351f089a",
   "metadata": {},
   "source": [
    "At this point, the Random Forest model may be saved or re-trained using a select group of features with the best __Gini Coefficients_ above. In this particular project, all the features will be intentionally used as it is common for only some of the conditions or tests to be present in each patient; for example, a patient only had a glucose and sodiumn _level_ available upon admission."
   ]
  },
  {
   "cell_type": "markdown",
   "id": "b7885374-313c-492d-8472-2f04a9e59c4f",
   "metadata": {},
   "source": [
    "____________________________________"
   ]
  },
  {
   "cell_type": "markdown",
   "id": "bec9eddc-7562-41dc-9c1c-881b7fc063be",
   "metadata": {},
   "source": [
    "## 9. Model Persistance"
   ]
  },
  {
   "cell_type": "code",
   "execution_count": 207,
   "id": "649203b1-9ccc-41af-8b63-642bfecc4f18",
   "metadata": {},
   "outputs": [],
   "source": [
    "import joblib\n",
    "joblib.dump(optimal_rfr, \"my_model.pkl\") # DIFF\n",
    "#...\n",
    "my_model_loaded = joblib.load(\"my_model.pkl\") # DIFF"
   ]
  },
  {
   "cell_type": "markdown",
   "id": "3d71b644-ad81-4e05-ac7b-75bb7cf4db83",
   "metadata": {},
   "source": [
    "____________________________________"
   ]
  },
  {
   "cell_type": "markdown",
   "id": "89cb38f6-4656-4742-afae-a67832170b8b",
   "metadata": {},
   "source": [
    "## 10. Summary"
   ]
  },
  {
   "cell_type": "markdown",
   "id": "8c951cf3-650e-4b0e-ae6d-035e8cd0a865",
   "metadata": {},
   "source": [
    "The stakeholders initially wanted a model that would utilize common features found in a hospital emergency department such as conditions and laboratory testing so that the length of stay for each patient may be predicted. The length of stay has obvious consequences for the safety of other patients as bed capacity is directly related to patient stays, as well as financial predictions such as information related to accounts receivable (AR) and costs.\n",
    "\n",
    "Training and validating various linear based models using data common found in electronic medical record systems (ie. Epic) allows for a practical model to help in the business problem. After performing necessary steps in model selection, __Random Forest Regression__ appears to be the most robust model providing a __RMSE__ value that comprises 0.7% of the total range for the outcome variable 'Length of Stay'. \n",
    "\n",
    "Future explorations may involve further strengthening the model to provide an even more _predictable_ model by using the best features described in the __Random Forest Feature Selection__ function provided by `Sklearn`. The model has been serialized above and may be easily incorporated into different modalities such as web applications or Tableau using `TabPy` module for `Python`."
   ]
  },
  {
   "cell_type": "markdown",
   "id": "2387aab1-b2d4-4a7e-9af0-e2b7905a0471",
   "metadata": {},
   "source": [
    "## 11. References"
   ]
  },
  {
   "cell_type": "markdown",
   "id": "60c2573f-1c6b-4ae6-ac87-61f68713ed2d",
   "metadata": {},
   "source": [
    "https://www.kaggle.com/datasets/aayushchou/hospital-length-of-stay-dataset-microsoft"
   ]
  }
 ],
 "metadata": {
  "kernelspec": {
   "display_name": "Python 3 (ipykernel)",
   "language": "python",
   "name": "python3"
  },
  "language_info": {
   "codemirror_mode": {
    "name": "ipython",
    "version": 3
   },
   "file_extension": ".py",
   "mimetype": "text/x-python",
   "name": "python",
   "nbconvert_exporter": "python",
   "pygments_lexer": "ipython3",
   "version": "3.12.4"
  }
 },
 "nbformat": 4,
 "nbformat_minor": 5
}
